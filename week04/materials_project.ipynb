{
 "cells": [
  {
   "cell_type": "markdown",
   "metadata": {},
   "source": [
    "# Practical: Materials Project\n",
    "```{admonition} Python\n",
    ":class: tip\n",
    "For this practical, we need to do some coding in Python. If you are not familiar with Python, you should do the \n",
    "[Introductory Videos on Python](https://drive.google.com/drive/folders/1Q3HjLFGMUTwv9htJXONZRMGUosSv7Odi?usp=sharing) provided by [Dr. Sasani Jayawardhana](https://cde.nus.edu.sg/mse/staff/sasani-jayawardhana/).\n",
    "\n",
    "Particularly, we will use lots of libraries in Python. If you are not familiar with Python libraries, you should do work harder after go through the introductory videos and try to understand as much as possible.\n",
    "```\n",
    "In this practical, we will use the Materials Project API to access information about materials. The Materials Project is a database of materials properties that is maintained by the Lawrence Berkeley National Laboratory. The database contains information about the properties of a large number of materials, including their crystal structures, band structures, and thermodynamic properties.\n",
    "\n",
    "## Register for a Materials Project API Key\n",
    "To access the Materials Project API, you will need to register for an API key. You can register an account of Materials Project by visiting the following website:\n",
    "https://profile.materialsproject.org/\n",
    "\n",
    "Then you can find your `API key` in the dashboard page. You should set your `MP_API_KEY` in the following cell."
   ]
  },
  {
   "cell_type": "code",
   "execution_count": 2,
   "metadata": {},
   "outputs": [],
   "source": [
    "MP_API_KEY = \"lhJhUip71qdeolIIO6fvSRHhVyNtjwIF\" # check https://next-gen.materialsproject.org/dashboard for your API key"
   ]
  },
  {
   "cell_type": "markdown",
   "metadata": {},
   "source": [
    "```{admonition} Materials Project API Key\n",
    ":class: tip\n",
    "You should keep your API key secret and not share it with others. If you suspect that your API key has been compromised, you can regenerate a new API key in the dashboard page.\n",
    "\n",
    "You can find more information about the Materials Project API at the following website:\n",
    "https://next-gen.materialsproject.org/api\n",
    "```"
   ]
  },
  {
   "cell_type": "markdown",
   "metadata": {},
   "source": [
    "## Install the `mp_api` Package\n",
    "We need to install `mp_api` package to access the Materials Project API. You can install the package using the following command:"
   ]
  },
  {
   "cell_type": "code",
   "execution_count": 3,
   "metadata": {},
   "outputs": [
    {
     "name": "stdout",
     "output_type": "stream",
     "text": [
      "Requirement already satisfied: mp_api in d:\\anaconda\\envs\\mi\\lib\\site-packages (0.45.1)\n",
      "Requirement already satisfied: setuptools in d:\\anaconda\\envs\\mi\\lib\\site-packages (from mp_api) (75.8.0)\n",
      "Requirement already satisfied: msgpack in d:\\anaconda\\envs\\mi\\lib\\site-packages (from mp_api) (1.1.0)\n",
      "Requirement already satisfied: maggma>=0.57.1 in d:\\anaconda\\envs\\mi\\lib\\site-packages (from mp_api) (0.71.2)\n",
      "Requirement already satisfied: pymatgen!=2024.2.20,>=2022.3.7 in d:\\anaconda\\envs\\mi\\lib\\site-packages (from mp_api) (2025.1.24)\n",
      "Requirement already satisfied: typing-extensions>=3.7.4.1 in d:\\anaconda\\envs\\mi\\lib\\site-packages (from mp_api) (4.12.2)\n",
      "Requirement already satisfied: requests>=2.23.0 in d:\\anaconda\\envs\\mi\\lib\\site-packages (from mp_api) (2.32.3)\n",
      "Requirement already satisfied: monty>=2024.12.10 in d:\\anaconda\\envs\\mi\\lib\\site-packages (from mp_api) (2025.1.9)\n",
      "Requirement already satisfied: emmet-core>=0.84.3rc6 in d:\\anaconda\\envs\\mi\\lib\\site-packages (from mp_api) (0.84.6rc3)\n",
      "Requirement already satisfied: smart_open in d:\\anaconda\\envs\\mi\\lib\\site-packages (from mp_api) (7.1.0)\n",
      "Requirement already satisfied: numpy<2 in d:\\anaconda\\envs\\mi\\lib\\site-packages (from emmet-core>=0.84.3rc6->mp_api) (1.26.4)\n",
      "Requirement already satisfied: pydantic>=2.0 in d:\\anaconda\\envs\\mi\\lib\\site-packages (from emmet-core>=0.84.3rc6->mp_api) (2.10.6)\n",
      "Requirement already satisfied: pydantic-settings>=2.0 in d:\\anaconda\\envs\\mi\\lib\\site-packages (from emmet-core>=0.84.3rc6->mp_api) (2.7.1)\n",
      "Requirement already satisfied: pybtex~=0.24 in d:\\anaconda\\envs\\mi\\lib\\site-packages (from emmet-core>=0.84.3rc6->mp_api) (0.24.0)\n",
      "Requirement already satisfied: ruamel.yaml>=0.17 in d:\\anaconda\\envs\\mi\\lib\\site-packages (from maggma>=0.57.1->mp_api) (0.18.10)\n",
      "Requirement already satisfied: pymongo>=4.2.0 in d:\\anaconda\\envs\\mi\\lib\\site-packages (from maggma>=0.57.1->mp_api) (4.11)\n",
      "Requirement already satisfied: mongomock>=3.10.0 in d:\\anaconda\\envs\\mi\\lib\\site-packages (from maggma>=0.57.1->mp_api) (4.3.0)\n",
      "Requirement already satisfied: pydash>=4.1.0 in d:\\anaconda\\envs\\mi\\lib\\site-packages (from maggma>=0.57.1->mp_api) (8.0.5)\n",
      "Requirement already satisfied: jsonschema>=3.1.1 in d:\\anaconda\\envs\\mi\\lib\\site-packages (from maggma>=0.57.1->mp_api) (4.23.0)\n",
      "Requirement already satisfied: tqdm>=4.19.6 in d:\\anaconda\\envs\\mi\\lib\\site-packages (from maggma>=0.57.1->mp_api) (4.67.1)\n",
      "Requirement already satisfied: pandas>=2.2 in d:\\anaconda\\envs\\mi\\lib\\site-packages (from maggma>=0.57.1->mp_api) (2.2.3)\n",
      "Requirement already satisfied: jsonlines>=4.0.0 in d:\\anaconda\\envs\\mi\\lib\\site-packages (from maggma>=0.57.1->mp_api) (4.0.0)\n",
      "Requirement already satisfied: aioitertools>=0.5.1 in d:\\anaconda\\envs\\mi\\lib\\site-packages (from maggma>=0.57.1->mp_api) (0.12.0)\n",
      "Requirement already satisfied: pyzmq>=25.1.1 in d:\\anaconda\\envs\\mi\\lib\\site-packages (from maggma>=0.57.1->mp_api) (26.2.0)\n",
      "Requirement already satisfied: dnspython>=1.16.0 in d:\\anaconda\\envs\\mi\\lib\\site-packages (from maggma>=0.57.1->mp_api) (2.7.0)\n",
      "Requirement already satisfied: sshtunnel>=0.1.5 in d:\\anaconda\\envs\\mi\\lib\\site-packages (from maggma>=0.57.1->mp_api) (0.4.0)\n",
      "Requirement already satisfied: orjson>=3.9.0 in d:\\anaconda\\envs\\mi\\lib\\site-packages (from maggma>=0.57.1->mp_api) (3.10.15)\n",
      "Requirement already satisfied: boto3>=1.20.41 in d:\\anaconda\\envs\\mi\\lib\\site-packages (from maggma>=0.57.1->mp_api) (1.36.14)\n",
      "Requirement already satisfied: python-dateutil>=2.8.2 in d:\\anaconda\\envs\\mi\\lib\\site-packages (from maggma>=0.57.1->mp_api) (2.9.0.post0)\n",
      "Requirement already satisfied: joblib>=1 in d:\\anaconda\\envs\\mi\\lib\\site-packages (from pymatgen!=2024.2.20,>=2022.3.7->mp_api) (1.4.2)\n",
      "Requirement already satisfied: matplotlib>=3.8 in d:\\anaconda\\envs\\mi\\lib\\site-packages (from pymatgen!=2024.2.20,>=2022.3.7->mp_api) (3.10.0)\n",
      "Requirement already satisfied: networkx>=2.7 in d:\\anaconda\\envs\\mi\\lib\\site-packages (from pymatgen!=2024.2.20,>=2022.3.7->mp_api) (3.4.2)\n",
      "Requirement already satisfied: palettable>=3.3.3 in d:\\anaconda\\envs\\mi\\lib\\site-packages (from pymatgen!=2024.2.20,>=2022.3.7->mp_api) (3.3.3)\n",
      "Requirement already satisfied: plotly>=4.5.0 in d:\\anaconda\\envs\\mi\\lib\\site-packages (from pymatgen!=2024.2.20,>=2022.3.7->mp_api) (6.0.0)\n",
      "Requirement already satisfied: scipy>=1.13.0 in d:\\anaconda\\envs\\mi\\lib\\site-packages (from pymatgen!=2024.2.20,>=2022.3.7->mp_api) (1.15.1)\n",
      "Requirement already satisfied: spglib>=2.5.0 in d:\\anaconda\\envs\\mi\\lib\\site-packages (from pymatgen!=2024.2.20,>=2022.3.7->mp_api) (2.5.0)\n",
      "Requirement already satisfied: sympy>=1.3 in d:\\anaconda\\envs\\mi\\lib\\site-packages (from pymatgen!=2024.2.20,>=2022.3.7->mp_api) (1.13.3)\n",
      "Requirement already satisfied: tabulate>=0.9 in d:\\anaconda\\envs\\mi\\lib\\site-packages (from pymatgen!=2024.2.20,>=2022.3.7->mp_api) (0.9.0)\n",
      "Requirement already satisfied: uncertainties>=3.1.4 in d:\\anaconda\\envs\\mi\\lib\\site-packages (from pymatgen!=2024.2.20,>=2022.3.7->mp_api) (3.2.2)\n",
      "Requirement already satisfied: charset-normalizer<4,>=2 in d:\\anaconda\\envs\\mi\\lib\\site-packages (from requests>=2.23.0->mp_api) (3.4.1)\n",
      "Requirement already satisfied: idna<4,>=2.5 in d:\\anaconda\\envs\\mi\\lib\\site-packages (from requests>=2.23.0->mp_api) (3.10)\n",
      "Requirement already satisfied: urllib3<3,>=1.21.1 in d:\\anaconda\\envs\\mi\\lib\\site-packages (from requests>=2.23.0->mp_api) (2.3.0)\n",
      "Requirement already satisfied: certifi>=2017.4.17 in d:\\anaconda\\envs\\mi\\lib\\site-packages (from requests>=2.23.0->mp_api) (2025.1.31)\n",
      "Requirement already satisfied: wrapt in d:\\anaconda\\envs\\mi\\lib\\site-packages (from smart_open->mp_api) (1.17.2)\n",
      "Requirement already satisfied: botocore<1.37.0,>=1.36.14 in d:\\anaconda\\envs\\mi\\lib\\site-packages (from boto3>=1.20.41->maggma>=0.57.1->mp_api) (1.36.14)\n",
      "Requirement already satisfied: jmespath<2.0.0,>=0.7.1 in d:\\anaconda\\envs\\mi\\lib\\site-packages (from boto3>=1.20.41->maggma>=0.57.1->mp_api) (1.0.1)\n",
      "Requirement already satisfied: s3transfer<0.12.0,>=0.11.0 in d:\\anaconda\\envs\\mi\\lib\\site-packages (from boto3>=1.20.41->maggma>=0.57.1->mp_api) (0.11.2)\n",
      "Requirement already satisfied: attrs>=19.2.0 in d:\\anaconda\\envs\\mi\\lib\\site-packages (from jsonlines>=4.0.0->maggma>=0.57.1->mp_api) (25.1.0)\n",
      "Requirement already satisfied: jsonschema-specifications>=2023.03.6 in d:\\anaconda\\envs\\mi\\lib\\site-packages (from jsonschema>=3.1.1->maggma>=0.57.1->mp_api) (2024.10.1)\n",
      "Requirement already satisfied: referencing>=0.28.4 in d:\\anaconda\\envs\\mi\\lib\\site-packages (from jsonschema>=3.1.1->maggma>=0.57.1->mp_api) (0.36.2)\n",
      "Requirement already satisfied: rpds-py>=0.7.1 in d:\\anaconda\\envs\\mi\\lib\\site-packages (from jsonschema>=3.1.1->maggma>=0.57.1->mp_api) (0.22.3)\n",
      "Requirement already satisfied: contourpy>=1.0.1 in d:\\anaconda\\envs\\mi\\lib\\site-packages (from matplotlib>=3.8->pymatgen!=2024.2.20,>=2022.3.7->mp_api) (1.3.1)\n",
      "Requirement already satisfied: cycler>=0.10 in d:\\anaconda\\envs\\mi\\lib\\site-packages (from matplotlib>=3.8->pymatgen!=2024.2.20,>=2022.3.7->mp_api) (0.12.1)\n",
      "Requirement already satisfied: fonttools>=4.22.0 in d:\\anaconda\\envs\\mi\\lib\\site-packages (from matplotlib>=3.8->pymatgen!=2024.2.20,>=2022.3.7->mp_api) (4.55.8)\n",
      "Requirement already satisfied: kiwisolver>=1.3.1 in d:\\anaconda\\envs\\mi\\lib\\site-packages (from matplotlib>=3.8->pymatgen!=2024.2.20,>=2022.3.7->mp_api) (1.4.8)\n",
      "Requirement already satisfied: packaging>=20.0 in d:\\anaconda\\envs\\mi\\lib\\site-packages (from matplotlib>=3.8->pymatgen!=2024.2.20,>=2022.3.7->mp_api) (24.2)\n",
      "Requirement already satisfied: pillow>=8 in d:\\anaconda\\envs\\mi\\lib\\site-packages (from matplotlib>=3.8->pymatgen!=2024.2.20,>=2022.3.7->mp_api) (11.1.0)\n",
      "Requirement already satisfied: pyparsing>=2.3.1 in d:\\anaconda\\envs\\mi\\lib\\site-packages (from matplotlib>=3.8->pymatgen!=2024.2.20,>=2022.3.7->mp_api) (3.2.1)\n",
      "Requirement already satisfied: pytz in d:\\anaconda\\envs\\mi\\lib\\site-packages (from mongomock>=3.10.0->maggma>=0.57.1->mp_api) (2025.1)\n",
      "Requirement already satisfied: sentinels in d:\\anaconda\\envs\\mi\\lib\\site-packages (from mongomock>=3.10.0->maggma>=0.57.1->mp_api) (1.0.0)\n",
      "Requirement already satisfied: tzdata>=2022.7 in d:\\anaconda\\envs\\mi\\lib\\site-packages (from pandas>=2.2->maggma>=0.57.1->mp_api) (2025.1)\n",
      "Requirement already satisfied: narwhals>=1.15.1 in d:\\anaconda\\envs\\mi\\lib\\site-packages (from plotly>=4.5.0->pymatgen!=2024.2.20,>=2022.3.7->mp_api) (1.25.1)\n",
      "Requirement already satisfied: PyYAML>=3.01 in d:\\anaconda\\envs\\mi\\lib\\site-packages (from pybtex~=0.24->emmet-core>=0.84.3rc6->mp_api) (6.0.2)\n",
      "Requirement already satisfied: latexcodec>=1.0.4 in d:\\anaconda\\envs\\mi\\lib\\site-packages (from pybtex~=0.24->emmet-core>=0.84.3rc6->mp_api) (3.0.0)\n",
      "Requirement already satisfied: six in d:\\anaconda\\envs\\mi\\lib\\site-packages (from pybtex~=0.24->emmet-core>=0.84.3rc6->mp_api) (1.17.0)\n",
      "Requirement already satisfied: annotated-types>=0.6.0 in d:\\anaconda\\envs\\mi\\lib\\site-packages (from pydantic>=2.0->emmet-core>=0.84.3rc6->mp_api) (0.7.0)\n",
      "Requirement already satisfied: pydantic-core==2.27.2 in d:\\anaconda\\envs\\mi\\lib\\site-packages (from pydantic>=2.0->emmet-core>=0.84.3rc6->mp_api) (2.27.2)\n",
      "Requirement already satisfied: python-dotenv>=0.21.0 in d:\\anaconda\\envs\\mi\\lib\\site-packages (from pydantic-settings>=2.0->emmet-core>=0.84.3rc6->mp_api) (1.0.1)\n",
      "Requirement already satisfied: ruamel.yaml.clib>=0.2.7 in d:\\anaconda\\envs\\mi\\lib\\site-packages (from ruamel.yaml>=0.17->maggma>=0.57.1->mp_api) (0.2.12)\n",
      "Requirement already satisfied: paramiko>=2.7.2 in d:\\anaconda\\envs\\mi\\lib\\site-packages (from sshtunnel>=0.1.5->maggma>=0.57.1->mp_api) (3.5.1)\n",
      "Requirement already satisfied: mpmath<1.4,>=1.1.0 in d:\\anaconda\\envs\\mi\\lib\\site-packages (from sympy>=1.3->pymatgen!=2024.2.20,>=2022.3.7->mp_api) (1.3.0)\n",
      "Requirement already satisfied: colorama in d:\\anaconda\\envs\\mi\\lib\\site-packages (from tqdm>=4.19.6->maggma>=0.57.1->mp_api) (0.4.6)\n",
      "Requirement already satisfied: bcrypt>=3.2 in d:\\anaconda\\envs\\mi\\lib\\site-packages (from paramiko>=2.7.2->sshtunnel>=0.1.5->maggma>=0.57.1->mp_api) (4.2.1)\n",
      "Requirement already satisfied: cryptography>=3.3 in d:\\anaconda\\envs\\mi\\lib\\site-packages (from paramiko>=2.7.2->sshtunnel>=0.1.5->maggma>=0.57.1->mp_api) (44.0.0)\n",
      "Requirement already satisfied: pynacl>=1.5 in d:\\anaconda\\envs\\mi\\lib\\site-packages (from paramiko>=2.7.2->sshtunnel>=0.1.5->maggma>=0.57.1->mp_api) (1.5.0)\n",
      "Requirement already satisfied: cffi>=1.12 in d:\\anaconda\\envs\\mi\\lib\\site-packages (from cryptography>=3.3->paramiko>=2.7.2->sshtunnel>=0.1.5->maggma>=0.57.1->mp_api) (1.17.1)\n",
      "Requirement already satisfied: pycparser in d:\\anaconda\\envs\\mi\\lib\\site-packages (from cffi>=1.12->cryptography>=3.3->paramiko>=2.7.2->sshtunnel>=0.1.5->maggma>=0.57.1->mp_api) (2.22)\n"
     ]
    }
   ],
   "source": [
    "# you can skip this if you've already installed the mp_api package.\n",
    "!pip install mp_api "
   ]
  },
  {
   "cell_type": "markdown",
   "metadata": {},
   "source": [
    "````{admonition} Python Version Problem\n",
    ":class: tip\n",
    "\n",
    "If you're using Python version 3.13, you might encounter installation error. You need to reinstall a lower version of Python (e.g. 3.12). If you don't have any problem install the package, you can skip the following steps.\n",
    "\n",
    "- First, you need to uninstall the current local enviornment. Open Anaconda Prompt and type the following command. Assuming `mi` is your local enviornment name.\n",
    "```bash\n",
    "conda remove --name mi --all\n",
    "```\n",
    "- Then recreate a new local enviornment with Python version 3.12. Open Anaconda Prompt and type the following command.\n",
    "```bash\n",
    "conda create -n mi python=3.12\n",
    "```\n",
    "- Activate the local enviornment. Open Anaconda Prompt and type the following command.\n",
    "```bash\n",
    "conda activate mi\n",
    "```\n",
    "\n",
    "- Activate the local enviornment. Open Anaconda Prompt and type the following command.\n",
    "```bash\n",
    "pip install jupyter ase pymatgen\n",
    "```\n",
    "- Then close and reopen your VS Code and try above cell again.\n",
    "\n",
    "````"
   ]
  },
  {
   "cell_type": "markdown",
   "metadata": {},
   "source": [
    "## Querying Data from the Materials Project Database\n",
    "We can query data from the Materials Project database using the `mp_api` package. The `mp_api` package provides a Python interface to the Materials Project API, which allows you to query the database for information about materials. The package provides a number of functions for querying the database, including functions for querying materials by chemical formula, by material ID, and by crystal structure.\n",
    "\n",
    "To query data from the data base, we need to import the `MPRester` class from the `mp_api` package. We can then create an instance of the `MPRester` class, passing our API key as an argument to the constructor. We can then use the instance to query the database for information about materials.\n",
    "\n",
    "In the example below, we are searching data using the `material_ids`."
   ]
  },
  {
   "cell_type": "markdown",
   "metadata": {},
   "source": [
    "```{admonition} Python API\n",
    ":class: info\n",
    "Here we are using API. If you don't know what is class, instances, you can check the [Object-Oriented Programming](https://realpython.com/python3-object-oriented-programming/). There are other online tutorials as well.\n",
    "```"
   ]
  },
  {
   "cell_type": "markdown",
   "metadata": {},
   "source": [
    "### Query Materials by Material ID\n",
    "You can query the Materials Project database for information about a material by its material ID. The material ID is a unique identifier that is assigned to each material in the database. You can find the material ID for a material by searching for the material on the Materials Project website."
   ]
  },
  {
   "cell_type": "code",
   "execution_count": 4,
   "metadata": {},
   "outputs": [
    {
     "name": "stderr",
     "output_type": "stream",
     "text": [
      "d:\\Anaconda\\envs\\mi\\Lib\\site-packages\\tqdm\\auto.py:21: TqdmWarning: IProgress not found. Please update jupyter and ipywidgets. See https://ipywidgets.readthedocs.io/en/stable/user_install.html\n",
      "  from .autonotebook import tqdm as notebook_tqdm\n",
      "Retrieving SummaryDoc documents: 100%|██████████| 3/3 [00:00<?, ?it/s]\n"
     ]
    }
   ],
   "source": [
    "from mp_api.client import MPRester\n",
    "\n",
    "# Pass your API key directly as an argument.\n",
    "with MPRester(MP_API_KEY) as mpr:\n",
    "    docs = mpr.materials.summary.search(\n",
    "        material_ids=[\"mp-149\", \"mp-13\", \"mp-2131\"]\n",
    "    )"
   ]
  },
  {
   "cell_type": "markdown",
   "metadata": {},
   "source": [
    "### Show the Available Fields\n",
    "We can check the available properties from `mpr.materials.summary.available_fields`."
   ]
  },
  {
   "cell_type": "code",
   "execution_count": 5,
   "metadata": {},
   "outputs": [
    {
     "name": "stdout",
     "output_type": "stream",
     "text": [
      "Available fields: ['builder_meta', 'nsites', 'elements', 'nelements', 'composition', 'composition_reduced', 'formula_pretty', 'formula_anonymous', 'chemsys', 'volume', 'density', 'density_atomic', 'symmetry', 'property_name', 'material_id', 'deprecated', 'deprecation_reasons', 'last_updated', 'origins', 'warnings', 'structure', 'task_ids', 'uncorrected_energy_per_atom', 'energy_per_atom', 'formation_energy_per_atom', 'energy_above_hull', 'is_stable', 'equilibrium_reaction_energy_per_atom', 'decomposes_to', 'xas', 'grain_boundaries', 'band_gap', 'cbm', 'vbm', 'efermi', 'is_gap_direct', 'is_metal', 'es_source_calc_id', 'bandstructure', 'dos', 'dos_energy_up', 'dos_energy_down', 'is_magnetic', 'ordering', 'total_magnetization', 'total_magnetization_normalized_vol', 'total_magnetization_normalized_formula_units', 'num_magnetic_sites', 'num_unique_magnetic_sites', 'types_of_magnetic_species', 'bulk_modulus', 'shear_modulus', 'universal_anisotropy', 'homogeneous_poisson', 'e_total', 'e_ionic', 'e_electronic', 'n', 'e_ij_max', 'weighted_surface_energy_EV_PER_ANG2', 'weighted_surface_energy', 'weighted_work_function', 'surface_anisotropy', 'shape_factor', 'has_reconstructed', 'possible_species', 'has_props', 'theoretical', 'database_IDs']\n",
      "\n",
      "--------------------\n",
      "Material ID: mp-13\n",
      "Theoretical? False\n",
      "Formula: Fe\n",
      "\n",
      "--------------------\n",
      "Material ID: mp-2131\n",
      "Theoretical? False\n",
      "Formula: SrN6\n",
      "\n",
      "--------------------\n",
      "Material ID: mp-149\n",
      "Theoretical? False\n",
      "Formula: Si\n"
     ]
    }
   ],
   "source": [
    "print(f\"Available fields: {mpr.materials.summary.available_fields}\")\n",
    "\n",
    "# Print out the data (some) for each material\n",
    "for example_doc in docs:\n",
    "    print(\"\\n--------------------\")\n",
    "    print(f\"Material ID: {example_doc.material_id}\")\n",
    "    print(f\"Theoretical? {example_doc.theoretical}\") # whether this structure is a purely theoretical structure or  not (also exist in experiment)\n",
    "    print(f\"Formula: {example_doc.formula_pretty}\")"
   ]
  },
  {
   "cell_type": "markdown",
   "metadata": {},
   "source": [
    "### Customize the Search Function\n",
    "We can customize our search in `search()` function. For example, we can search for materials with a specific chemical formula, or we can search for materials with specific density. Please note that sometimes, the search may return lots of results, it's better to save these results into a `json` file.\n",
    "\n",
    "#### Chemsys Search\n",
    "You can use `chemsys` to search for materials with specific elements. For example, `Fe-O` will search for materials with Iron and Oxygen. You can also use `fields` to specify the properties you want to get. You can find more information about the search in the [Materials Project API documentation](https://materialsproject.org/docs/api)."
   ]
  },
  {
   "cell_type": "code",
   "execution_count": 6,
   "metadata": {},
   "outputs": [
    {
     "name": "stderr",
     "output_type": "stream",
     "text": [
      "Retrieving SummaryDoc documents: 100%|██████████| 5/5 [00:00<?, ?it/s]\n"
     ]
    }
   ],
   "source": [
    "with MPRester(MP_API_KEY) as mpr:\n",
    "    docs = mpr.materials.summary.search(\n",
    "        chemsys=\"Li-Fe-P-O\", is_stable=True,\n",
    "        fields=[\"material_id\", \"volume\", \"elements\",\"structure\"]\n",
    "    )"
   ]
  },
  {
   "cell_type": "code",
   "execution_count": 7,
   "metadata": {},
   "outputs": [],
   "source": [
    "# dump results to a json file\n",
    "import json\n",
    "with open('materials_data.json', 'w') as f:\n",
    "    json.dump([doc.dict() for doc in docs], f, indent=4)"
   ]
  },
  {
   "cell_type": "markdown",
   "metadata": {},
   "source": [
    "You can use wildcard `*` to search for all elements. You can also put formula pattern in search. For example, `ABO3` will search for ternary materials with formula ending with `O3`, structure with perovskite related composition.\n"
   ]
  },
  {
   "cell_type": "code",
   "execution_count": 8,
   "metadata": {},
   "outputs": [
    {
     "name": "stderr",
     "output_type": "stream",
     "text": [
      "Retrieving SummaryDoc documents: 100%|██████████| 71/71 [00:00<?, ?it/s]"
     ]
    },
    {
     "name": "stdout",
     "output_type": "stream",
     "text": [
      "Materials found: 71\n",
      "Material ID: mp-1221539, Band gap: 0.91 eV, Composition: Mo4 Br12 O4, Energy above hull: 0.00 meV\n",
      "Material ID: mp-558934, Band gap: 1.27 eV, Composition: Hg36 Cl12 O12, Energy above hull: 4.59 meV\n",
      "Material ID: mp-29019, Band gap: 0.63 eV, Composition: Rb18 I6 O6, Energy above hull: 0.00 meV\n",
      "Material ID: mp-505212, Band gap: 1.33 eV, Composition: Cs6 Au2 O2, Energy above hull: 0.00 meV\n",
      "Material ID: mp-28166, Band gap: 0.89 eV, Composition: K3 Br1 O1, Energy above hull: 0.00 meV\n",
      "Material ID: mp-28171, Band gap: 1.03 eV, Composition: K3 I1 O1, Energy above hull: 0.00 meV\n",
      "Material ID: mp-9200, Band gap: 0.56 eV, Composition: K3 Au1 O1, Energy above hull: 0.00 meV\n",
      "Material ID: mp-673798, Band gap: 1.03 eV, Composition: K6 Cl2 O2, Energy above hull: 7.48 meV\n",
      "Material ID: mp-546285, Band gap: 0.82 eV, Composition: Nb2 I6 O2, Energy above hull: 0.00 meV\n",
      "Material ID: mp-11649, Band gap: 0.51 eV, Composition: Ca12 Si4 O4, Energy above hull: 0.71 meV\n",
      "Material ID: mp-572291, Band gap: 1.08 eV, Composition: K12 Cl4 O4, Energy above hull: 0.40 meV\n",
      "Material ID: mp-755428, Band gap: 1.22 eV, Composition: Rb12 Cl4 O4, Energy above hull: 0.00 meV\n",
      "Material ID: mp-757636, Band gap: 0.96 eV, Composition: Nb8 Tl8 O24, Energy above hull: 0.00 meV\n",
      "Material ID: mp-545482, Band gap: 1.06 eV, Composition: Pd2 Se2 O6, Energy above hull: 0.00 meV\n",
      "Material ID: mp-1283250, Band gap: 1.14 eV, Composition: Ba4 Co4 O12, Energy above hull: 1.06 meV\n",
      "Material ID: mp-1542758, Band gap: 1.31 eV, Composition: Sr2 Mo2 O6, Energy above hull: 0.00 meV\n",
      "Material ID: mp-546684, Band gap: 0.82 eV, Composition: Pd2 Se2 O6, Energy above hull: 4.67 meV\n",
      "Material ID: mp-1106094, Band gap: 0.88 eV, Composition: K4 C4 O12, Energy above hull: 0.00 meV\n",
      "Material ID: mp-607467, Band gap: 1.10 eV, Composition: Ca4 Mo4 O12, Energy above hull: 0.00 meV\n",
      "Material ID: mp-727242, Band gap: 0.67 eV, Composition: Na4 C4 O12, Energy above hull: 1.81 meV\n",
      "Material ID: mp-755893, Band gap: 0.67 eV, Composition: Ca4 Bi4 O12, Energy above hull: 0.00 meV\n",
      "Material ID: mp-755478, Band gap: 0.77 eV, Composition: Cd2 Bi2 O6, Energy above hull: 4.83 meV\n",
      "Material ID: mp-1288145, Band gap: 0.95 eV, Composition: La2 Co2 O6, Energy above hull: 0.00 meV\n",
      "Material ID: mp-20569, Band gap: 0.88 eV, Composition: Mn2 Sn2 O6, Energy above hull: 0.00 meV\n",
      "Material ID: mp-23054, Band gap: 1.10 eV, Composition: Na2 Bi2 O6, Energy above hull: 0.00 meV\n",
      "Material ID: mp-754246, Band gap: 1.11 eV, Composition: Ti2 Sn2 O6, Energy above hull: 9.59 meV\n",
      "Material ID: mp-754329, Band gap: 0.98 eV, Composition: Cd2 Sn2 O6, Energy above hull: 1.07 meV\n",
      "Material ID: mp-676262, Band gap: 0.98 eV, Composition: Ta8 Tl8 O24, Energy above hull: 0.00 meV\n",
      "Material ID: mp-23501, Band gap: 1.28 eV, Composition: Fe2 Bi2 O6, Energy above hull: 1.63 meV\n",
      "Material ID: mp-30284, Band gap: 1.24 eV, Composition: Hg2 As2 O6, Energy above hull: 0.00 meV\n",
      "Material ID: mp-18840, Band gap: 0.90 eV, Composition: Ba3 Mn3 O9, Energy above hull: 0.00 meV\n",
      "Material ID: mp-675227, Band gap: 0.87 eV, Composition: Ba5 Mn5 O15, Energy above hull: 1.78 meV\n",
      "Material ID: mp-1120755, Band gap: 0.66 eV, Composition: Na2 C2 O6, Energy above hull: 0.00 meV\n",
      "Material ID: mp-19051, Band gap: 1.00 eV, Composition: La4 Co4 O12, Energy above hull: 3.32 meV\n",
      "Material ID: mp-19097, Band gap: 1.48 eV, Composition: Fe2 B2 O6, Energy above hull: 0.00 meV\n",
      "Material ID: mp-19001, Band gap: 0.90 eV, Composition: Sr4 Mn4 O12, Energy above hull: 3.06 meV\n",
      "Material ID: mp-19138, Band gap: 1.47 eV, Composition: Ba2 Ni2 O6, Energy above hull: 0.00 meV\n",
      "Material ID: mp-557535, Band gap: 0.84 eV, Composition: Ba8 Mn8 O24, Energy above hull: 1.22 meV\n",
      "Material ID: mp-8098, Band gap: 1.34 eV, Composition: In2 Ga2 O6, Energy above hull: 0.00 meV\n",
      "Material ID: mp-1045305, Band gap: 1.14 eV, Composition: Ca4 Mo4 O12, Energy above hull: 9.69 meV\n",
      "Material ID: mp-1178212, Band gap: 0.86 eV, Composition: Fe4 Sn4 O12, Energy above hull: 0.00 meV\n",
      "Material ID: mp-1279343, Band gap: 0.96 eV, Composition: Co2 Ni2 O6, Energy above hull: 0.37 meV\n",
      "Material ID: mp-861502, Band gap: 0.99 eV, Composition: Ac1 Fe1 O3, Energy above hull: 0.00 meV\n",
      "Material ID: mp-935811, Band gap: 1.41 eV, Composition: K1 Nb1 O3, Energy above hull: 7.73 meV\n",
      "Material ID: mp-977455, Band gap: 0.92 eV, Composition: Pa1 Ag1 O3, Energy above hull: 0.00 meV\n",
      "Material ID: mp-756933, Band gap: 0.66 eV, Composition: Ta4 Tl4 O12, Energy above hull: 4.27 meV\n",
      "Material ID: mp-1205366, Band gap: 1.09 eV, Composition: Lu4 Rh4 O12, Energy above hull: 0.00 meV\n",
      "Material ID: mp-1207705, Band gap: 0.96 eV, Composition: Tm4 Rh4 O12, Energy above hull: 0.00 meV\n",
      "Material ID: mp-1209329, Band gap: 1.30 eV, Composition: Pr4 V4 O12, Energy above hull: 0.00 meV\n",
      "Material ID: mp-1212108, Band gap: 0.96 eV, Composition: Ho4 Rh4 O12, Energy above hull: 0.00 meV\n",
      "Material ID: mp-1212884, Band gap: 0.89 eV, Composition: Dy4 Rh4 O12, Energy above hull: 0.00 meV\n",
      "Material ID: mp-1213022, Band gap: 0.96 eV, Composition: Er4 Rh4 O12, Energy above hull: 0.00 meV\n",
      "Material ID: mp-19012, Band gap: 1.13 eV, Composition: Ca4 Mo4 O12, Energy above hull: 6.36 meV\n",
      "Material ID: mp-19802, Band gap: 1.42 eV, Composition: Tb4 Co4 O12, Energy above hull: 0.00 meV\n",
      "Material ID: mp-20079, Band gap: 0.93 eV, Composition: Ca4 Pb4 O12, Energy above hull: 2.45 meV\n",
      "Material ID: mp-20489, Band gap: 0.79 eV, Composition: Sr4 Pb4 O12, Energy above hull: 0.00 meV\n",
      "Material ID: mp-22137, Band gap: 1.19 eV, Composition: Dy4 Co4 O12, Energy above hull: 9.31 meV\n",
      "Material ID: mp-22283, Band gap: 0.91 eV, Composition: Dy4 Fe4 O12, Energy above hull: 6.33 meV\n",
      "Material ID: mp-22341, Band gap: 1.08 eV, Composition: Pr4 Fe4 O12, Energy above hull: 0.00 meV\n",
      "Material ID: mp-3317, Band gap: 0.73 eV, Composition: Sm4 Rh4 O12, Energy above hull: 0.00 meV\n",
      "Material ID: mp-4582, Band gap: 0.65 eV, Composition: Nd4 Rh4 O12, Energy above hull: 0.00 meV\n",
      "Material ID: mp-4789, Band gap: 0.60 eV, Composition: Pr4 Rh4 O12, Energy above hull: 0.00 meV\n",
      "Material ID: mp-5163, Band gap: 0.59 eV, Composition: La4 Rh4 O12, Energy above hull: 0.00 meV\n",
      "Material ID: mp-541129, Band gap: 1.03 eV, Composition: Nd4 V4 O12, Energy above hull: 0.00 meV\n",
      "Material ID: mp-554811, Band gap: 1.44 eV, Composition: Tb4 V4 O12, Energy above hull: 0.00 meV\n",
      "Material ID: mp-562779, Band gap: 1.45 eV, Composition: Er4 Co4 O12, Energy above hull: 0.00 meV\n",
      "Material ID: mp-5692, Band gap: 0.87 eV, Composition: Tb4 Rh4 O12, Energy above hull: 0.00 meV\n",
      "Material ID: mp-4784, Band gap: 1.30 eV, Composition: Ca2 Pt2 O6, Energy above hull: 0.00 meV\n",
      "Material ID: mp-1178513, Band gap: 0.67 eV, Composition: Ba2 Sn2 O6, Energy above hull: 0.65 meV\n",
      "Material ID: mp-1101462, Band gap: 0.95 eV, Composition: Nb8 Tl8 O24, Energy above hull: 1.37 meV\n",
      "Material ID: mp-4342, Band gap: 1.48 eV, Composition: K1 Nb1 O3, Energy above hull: 1.19 meV\n"
     ]
    },
    {
     "name": "stderr",
     "output_type": "stream",
     "text": [
      "\n"
     ]
    }
   ],
   "source": [
    "with MPRester(MP_API_KEY) as mpr:\n",
    "    docs = mpr.materials.summary.search(\n",
    "        chemsys=\"O-*-*\", formula=\"ABO3\",\n",
    "        fields=[\"material_id\", \"band_gap\",\"composition\", \"energy_above_hull\"], \n",
    "        energy_above_hull=[0,0.01], band_gap=[0.5, 1.5]\n",
    "    )\n",
    "    mpid_bgap_dict = {doc.material_id: [doc.band_gap, doc.composition, doc.energy_above_hull] for doc in docs}\n",
    "\n",
    "print(f\"Materials found: {len(mpid_bgap_dict)}\")\n",
    "for mpid, (bgap, composition, energy_above_hull) in mpid_bgap_dict.items():\n",
    "    print(f\"Material ID: {mpid}, Band gap: {bgap:.2f} eV, Composition: {composition}, Energy above hull: {energy_above_hull*1000:.2f} meV\")"
   ]
  },
  {
   "cell_type": "markdown",
   "metadata": {},
   "source": [
    "```{admonition} Results from Materials Project\n",
    ":class: tip\n",
    "Results from Materials Project are the calculated values using DFT. They may not be the same as the experimental values. You should always verify the results from the Materials Project with the experimental data. Some properties, e.g. band gap, are difficult to calculate accurately. You should be careful when using these properties.\n",
    "```"
   ]
  },
  {
   "cell_type": "markdown",
   "metadata": {},
   "source": [
    "### Get Properties\n",
    "\n",
    "#### Get Structure\n",
    "You can get the structure of the material using `get_structure_by_material_id()` function. It will return a `pymatgen.core.Structure` object. You can save the structure to a `cif` file using `structure.to()` function.\n"
   ]
  },
  {
   "cell_type": "code",
   "execution_count": 9,
   "metadata": {},
   "outputs": [
    {
     "name": "stderr",
     "output_type": "stream",
     "text": [
      "Retrieving MaterialsDoc documents: 100%|██████████| 1/1 [00:00<?, ?it/s]\n"
     ]
    },
    {
     "data": {
      "text/plain": [
       "\"# generated using pymatgen\\ndata_Si\\n_symmetry_space_group_name_H-M   'P 1'\\n_cell_length_a   3.84927840\\n_cell_length_b   3.84927941\\n_cell_length_c   3.84927800\\n_cell_angle_alpha   60.00001213\\n_cell_angle_beta   60.00000347\\n_cell_angle_gamma   60.00001098\\n_symmetry_Int_Tables_number   1\\n_chemical_formula_structural   Si\\n_chemical_formula_sum   Si2\\n_cell_volume   40.32952685\\n_cell_formula_units_Z   2\\nloop_\\n _symmetry_equiv_pos_site_id\\n _symmetry_equiv_pos_as_xyz\\n  1  'x, y, z'\\nloop_\\n _atom_site_type_symbol\\n _atom_site_label\\n _atom_site_symmetry_multiplicity\\n _atom_site_fract_x\\n _atom_site_fract_y\\n _atom_site_fract_z\\n _atom_site_occupancy\\n  Si  Si0  1  0.87500000  0.87500000  0.87500000  1\\n  Si  Si1  1  0.12500000  0.12500000  0.12500000  1\\n\""
      ]
     },
     "execution_count": 9,
     "metadata": {},
     "output_type": "execute_result"
    }
   ],
   "source": [
    "from mp_api.client import MPRester\n",
    "\n",
    "with MPRester(MP_API_KEY) as mpr:\n",
    "    structure = mpr.materials.get_structure_by_material_id(material_id=\"mp-149\")\n",
    "\n",
    "structure.to(filename=\"mp-149.cif\")\n",
    "                                                      "
   ]
  },
  {
   "cell_type": "markdown",
   "metadata": {},
   "source": [
    "#### Thermodynamic Properties\n",
    "You can construct a phase diagram using the queried data from Materials Project using `get_phase_diagram_from_chemsys()` function. Noted that the phase diagram is calculated using DFT and may not be the same as the experimental phase diagram as there is no temperature and pressure information."
   ]
  },
  {
   "cell_type": "code",
   "execution_count": 10,
   "metadata": {},
   "outputs": [
    {
     "data": {
      "text/plain": [
       "<Axes: xlabel='Fraction', ylabel='Formation energy (eV/atom)'>"
      ]
     },
     "execution_count": 10,
     "metadata": {},
     "output_type": "execute_result"
    },
    {
     "data": {
      "image/png": "[encoded data removed]",
      "text/plain": [
       "<Figure size 800x600 with 1 Axes>"
      ]
     },
     "metadata": {},
     "output_type": "display_data"
    }
   ],
   "source": [
    "from mp_api.client import MPRester\n",
    "from emmet.core.thermo import ThermoType\n",
    "\n",
    "with MPRester(MP_API_KEY) as mpr:\n",
    "    \n",
    "    # -- GGA/GGA+U mixed phase diagram\n",
    "    pd = mpr.materials.thermo.get_phase_diagram_from_chemsys(chemsys=\"Cu-Au\", \n",
    "                                                   thermo_type=ThermoType.GGA_GGA_U)\n",
    "    \n",
    "pd.get_plot(backend='matplotlib')\n",
    "                                                      "
   ]
  },
  {
   "cell_type": "markdown",
   "metadata": {},
   "source": [
    "**If you have encountered problem of using `plotly` to plot your data as backend, you can set the backend to `matplotlib`.**\n"
   ]
  },
  {
   "cell_type": "code",
   "execution_count": 11,
   "metadata": {},
   "outputs": [],
   "source": [
    "from mp_api.client import MPRester\n",
    "from emmet.core.thermo import ThermoType\n",
    "\n",
    "with MPRester(MP_API_KEY) as mpr:\n",
    "    \n",
    "    # -- GGA/GGA+U mixed phase diagram\n",
    "    pd = mpr.materials.thermo.get_phase_diagram_from_chemsys(chemsys=\"Li-Fe-P-O\", \n",
    "                                                   thermo_type=ThermoType.GGA_GGA_U)\n",
    "                                                      \n",
    "    "
   ]
  },
  {
   "cell_type": "markdown",
   "metadata": {},
   "source": [
    "Since this is a pymatgen `PhaseDiagram` object, you can visualize the results.\n",
    "\n",
    "```{admonition} PhaseDiagram Object\n",
    ":class: info\n",
    "We will discuss `PhaseDiagram` object in the chapter of high-throughput computing.\n",
    "```\n"
   ]
  },
  {
   "cell_type": "code",
   "execution_count": 12,
   "metadata": {},
   "outputs": [
    {
     "data": {
      "application/vnd.plotly.v1+json": {
       "config": {
        "plotlyServerURL": "https://plot.ly"
       },
       "data": [
        {
         "hoverinfo": "none",
         "line": {
          "color": "black",
          "width": 1.5
         },
         "mode": "lines",
         "showlegend": false,
         "type": "scatter3d",
         "x": [
          0.6153846153846141,
          0.5714285714285701,
          null,
          0.6153846153846141,
          0.49999999999999856,
          null,
          0.4,
          0.5,
          null,
          0.25,
          0.416666666666666,
          null,
          0.6666666666666661,
          0.25,
          null,
          0.49999999999999856,
          0.3125,
          null,
          0.8333333333333326,
          0.6153846153846141,
          null,
          0.875,
          0.7380952380952376,
          null,
          0.25,
          0.35000000000000003,
          null,
          0.7000000000000001,
          0.5,
          null,
          0.5909090909090895,
          0.49999999999999856,
          null,
          0.125,
          1,
          null,
          0.6000000000000001,
          0.3125,
          null,
          0.6153846153846141,
          1,
          null,
          0.49999999999999856,
          0.47500000000000003,
          null,
          0.3461538461538455,
          0.5,
          null,
          0.555555555555555,
          0.6000000000000001,
          null,
          0.555555555555555,
          0.5909090909090895,
          null,
          0.3125,
          0.5,
          null,
          0.75,
          0.3125,
          null,
          0.555555555555555,
          0.5714285714285701,
          null,
          0.555555555555555,
          0.49999999999999856,
          null,
          0.16666666666666652,
          0.125,
          null,
          0.583333333333332,
          0.7000000000000001,
          null,
          0.49999999999999956,
          0.53125,
          null,
          0.875,
          0.3125,
          null,
          0.75,
          0.555555555555555,
          null,
          0.5909090909090895,
          0.5714285714285701,
          null,
          0.5909090909090895,
          0.49999999999999856,
          null,
          0.6666666666666661,
          0.555555555555555,
          null,
          0.16666666666666652,
          1,
          null,
          0.75,
          0.6153846153846141,
          null,
          0.4375,
          0.3125,
          null,
          0.3125,
          1,
          null,
          0.75,
          0.49999999999999956,
          null,
          0.3125,
          0.30000000000000004,
          null,
          0.30000000000000004,
          1,
          null,
          0.49999999999999956,
          1,
          null,
          0.875,
          0.49999999999999956,
          null,
          0.6000000000000001,
          0.25,
          null,
          0.538461538461537,
          0.5,
          null,
          0.5,
          1,
          null,
          0.583333333333332,
          0.49999999999999856,
          null,
          0.7000000000000001,
          0.44444444444444403,
          null,
          0.7000000000000001,
          0.49999999999999856,
          null,
          0.3125,
          0.3461538461538455,
          null,
          0.6000000000000001,
          0.53125,
          null,
          0.6000000000000001,
          0.5,
          null,
          0.583333333333332,
          0.5,
          null,
          0.44444444444444403,
          0.5,
          null,
          0.8333333333333326,
          0.49999999999999856,
          null,
          0.499999999999999,
          0.49999999999999906,
          null,
          0.4,
          0.499999999999999,
          null,
          0.53125,
          0.4,
          null,
          0.4,
          0.53125,
          null,
          0.583333333333332,
          0.5714285714285701,
          null,
          0.583333333333332,
          0.49999999999999856,
          null,
          0.75,
          0.7000000000000001,
          null,
          0.53125,
          0.3461538461538455,
          null,
          0.555555555555555,
          0.538461538461537,
          null,
          0.49999999999999906,
          0.5,
          null,
          0.4,
          0.5,
          null,
          0.75,
          0.6153846153846141,
          null,
          0.75,
          0.499999999999999,
          null,
          0.875,
          0.6153846153846141,
          null,
          0.75,
          0.53125,
          null,
          0.25,
          0.3125,
          null,
          0.6666666666666661,
          0.499999999999999,
          null,
          0.49999999999999856,
          0.47500000000000003,
          null,
          0.4375,
          0.5,
          null,
          0.125,
          0.3125,
          null,
          0.75,
          0.49999999999999856,
          null,
          0.16666666666666652,
          0.30000000000000004,
          null,
          0.75,
          0.125,
          null,
          0.16666666666666652,
          0.7380952380952376,
          null,
          0.6666666666666661,
          0.125,
          null,
          0.8333333333333326,
          0.7380952380952376,
          null,
          0.49999999999999956,
          0.5,
          null,
          0.555555555555555,
          0.49999999999999906,
          null,
          0.49999999999999956,
          0.4,
          null,
          0.49999999999999956,
          0.7380952380952376,
          null,
          0.4,
          0.3461538461538455,
          null,
          0.7000000000000001,
          0.5,
          null,
          0.5,
          0.30000000000000004,
          null,
          0.555555555555555,
          0.53125,
          null,
          0.7000000000000001,
          0.3125,
          null,
          0.49999999999999856,
          0.53125,
          null,
          0.538461538461537,
          0.5714285714285701,
          null,
          0.538461538461537,
          0.49999999999999856,
          null,
          0.875,
          0.16666666666666652,
          null,
          0.3125,
          0.5,
          null,
          0.25,
          0.30000000000000004,
          null,
          0.583333333333332,
          0.538461538461537,
          null,
          0.16666666666666652,
          0.3125,
          null,
          0.49999999999999856,
          0.499999999999999,
          null,
          0.8333333333333326,
          0.3125,
          null,
          0.49999999999999856,
          0.53125,
          null,
          0.416666666666666,
          0.30000000000000004,
          null,
          0.49999999999999956,
          0.3125,
          null,
          0.75,
          1,
          null,
          0.75,
          0.8333333333333326,
          null,
          0.6000000000000001,
          0.499999999999999,
          null,
          0.49999999999999856,
          0.5,
          null,
          0.16666666666666652,
          0.25,
          null,
          0.5,
          0.3125,
          null,
          0.538461538461537,
          0.49999999999999906,
          null,
          0.75,
          0.49999999999999856,
          null,
          1,
          0,
          null,
          0.47500000000000003,
          0.5,
          null,
          0.49999999999999856,
          1,
          null,
          0.5714285714285701,
          0.49999999999999856,
          null,
          0.4,
          0.49999999999999856,
          null,
          0.3125,
          0.47500000000000003,
          null,
          0.6000000000000001,
          0.4375,
          null,
          0.75,
          0.5909090909090895,
          null,
          0.53125,
          0.49999999999999906,
          null,
          0.75,
          0.5,
          null,
          0.6666666666666661,
          0.6000000000000001,
          null,
          0.3461538461538455,
          0.5,
          null,
          0.75,
          0.3125,
          null,
          0.75,
          0.4,
          null,
          0.49999999999999856,
          0.3461538461538455,
          null,
          0.49999999999999956,
          0.538461538461537,
          null,
          0.6666666666666661,
          0.4,
          null,
          0.25,
          0.125,
          null,
          0.53125,
          0.5,
          null,
          0.5714285714285701,
          0.49999999999999906,
          null,
          0.4,
          0.49999999999999906,
          null,
          0.75,
          0.6666666666666661,
          null,
          0.5,
          0.416666666666666,
          null,
          0.125,
          0,
          null,
          0.49999999999999856,
          0.3461538461538455,
          null,
          0.6000000000000001,
          0.35000000000000003,
          null,
          0.44444444444444403,
          0.5,
          null,
          0.44444444444444403,
          0.3125,
          null,
          0.75,
          0.7380952380952376,
          null,
          0.875,
          1,
          null,
          0.6000000000000001,
          0.3461538461538455,
          null,
          0.7380952380952376,
          0.3125,
          null,
          0.555555555555555,
          0.499999999999999,
          null,
          0.5909090909090895,
          0.6153846153846141,
          null,
          0.44444444444444403,
          0.25,
          null,
          0.555555555555555,
          0.53125,
          null,
          0.75,
          0.3461538461538455,
          null,
          0.49999999999999856,
          0.49999999999999856,
          null,
          0.5909090909090895,
          0.53125,
          null,
          0.49999999999999956,
          0.49999999999999906,
          null,
          0.6666666666666661,
          0.3461538461538455,
          null,
          0.16666666666666652,
          0,
          null,
          0.583333333333332,
          0.47500000000000003,
          null,
          0.4375,
          0.35000000000000003,
          null,
          0.7000000000000001,
          0.47500000000000003,
          null,
          0.6666666666666661,
          0.3125,
          null,
          0.25,
          0.3125,
          null,
          0.49999999999999956,
          0.5,
          null,
          0.44444444444444403,
          0.416666666666666,
          null,
          0.875,
          0.49999999999999856,
          null,
          0.538461538461537,
          0.53125,
          null,
          0.6000000000000001,
          0.4,
          null,
          0.499999999999999,
          0.53125,
          null,
          0.49999999999999956,
          0.125,
          null,
          0.416666666666666,
          0.3125,
          null,
          0.8333333333333326,
          0.16666666666666652,
          null,
          0.6153846153846141,
          0.49999999999999856,
          null,
          0.49999999999999856,
          0.49999999999999906,
          null,
          0.49999999999999956,
          0.16666666666666652,
          null,
          0.8333333333333326,
          0.875,
          null,
          0.3125,
          0.35000000000000003,
          null,
          0.583333333333332,
          0.6153846153846141,
          null,
          0.49999999999999856,
          0.3125,
          null,
          0.53125,
          0.499999999999999,
          null,
          0.7000000000000001,
          0.6153846153846141,
          null
         ],
         "y": [
          0.3108809141790284,
          0.3574073094983392,
          null,
          0.3108809141790284,
          0.34116152270295985,
          null,
          0.34641016151377546,
          0.8660254037844386,
          null,
          0.14433756729740643,
          0.14433756729740643,
          null,
          0.5773502691896252,
          0.4330127018922193,
          null,
          0.34116152270295985,
          0.25259074277046123,
          null,
          0.2886751345948126,
          0.3108809141790284,
          null,
          0.21650635094610965,
          0.2886751345948126,
          null,
          0.4330127018922193,
          0.6062177826491071,
          null,
          0.17320508075688776,
          0.28867513459481287,
          null,
          0.34116152270295985,
          0.28867513459481203,
          null,
          0.21650635094610965,
          0,
          null,
          0.6928203230275509,
          0.25259074277046123,
          null,
          0.3108809141790284,
          0,
          null,
          0.28867513459481203,
          0.30310889132455354,
          null,
          0.28867513459481203,
          0.8660254037844386,
          null,
          0.38490017945975014,
          0.6928203230275509,
          null,
          0.38490017945975014,
          0.34116152270295985,
          null,
          0.25259074277046123,
          0.28867513459481287,
          null,
          0.4330127018922193,
          0.25259074277046123,
          null,
          0.38490017945975014,
          0.3574073094983392,
          null,
          0.38490017945975014,
          0.34116152270295985,
          null,
          0.09622504486493753,
          0.21650635094610965,
          null,
          0.336787657027281,
          0.17320508075688776,
          null,
          0.4536323543632767,
          0.4149705059800435,
          null,
          0.21650635094610965,
          0.25259074277046123,
          null,
          0.4330127018922193,
          0.38490017945975014,
          null,
          0.34116152270295985,
          0.3574073094983392,
          null,
          0.34116152270295985,
          0.34116152270295985,
          null,
          0.5773502691896252,
          0.38490017945975014,
          null,
          0.09622504486493753,
          0,
          null,
          0.14433756729740643,
          0.3108809141790284,
          null,
          0.7577722283113838,
          0.25259074277046123,
          null,
          0.25259074277046123,
          0,
          null,
          0.4330127018922193,
          0.2886751345948126,
          null,
          0.25259074277046123,
          0.11547005383792515,
          null,
          0.11547005383792515,
          0,
          null,
          0.2886751345948126,
          0,
          null,
          0.21650635094610965,
          0.2886751345948126,
          null,
          0.6928203230275509,
          0.4330127018922193,
          null,
          0.39970403251589404,
          0.28867513459481287,
          null,
          0.14433756729740643,
          0,
          null,
          0.336787657027281,
          0.28867513459481203,
          null,
          0.17320508075688776,
          0.2566001196398334,
          null,
          0.17320508075688776,
          0.28867513459481203,
          null,
          0.25259074277046123,
          0.28867513459481203,
          null,
          0.6928203230275509,
          0.4149705059800435,
          null,
          0.6928203230275509,
          0.8660254037844386,
          null,
          0.336787657027281,
          0.28867513459481287,
          null,
          0.2566001196398334,
          0.28867513459481287,
          null,
          0.2886751345948126,
          0.28867513459481203,
          null,
          0.37115374447904464,
          0.38490017945975014,
          null,
          0.34641016151377546,
          0.37115374447904464,
          null,
          0.4149705059800435,
          0.34641016151377546,
          null,
          0.34641016151377546,
          0.3428017223313403,
          null,
          0.336787657027281,
          0.3574073094983392,
          null,
          0.336787657027281,
          0.34116152270295985,
          null,
          0.14433756729740643,
          0.17320508075688776,
          null,
          0.3428017223313403,
          0.28867513459481203,
          null,
          0.38490017945975014,
          0.39970403251589404,
          null,
          0.38490017945975014,
          0.28867513459481287,
          null,
          0.34641016151377546,
          0.28867513459481287,
          null,
          0.4330127018922193,
          0.3108809141790284,
          null,
          0.4330127018922193,
          0.37115374447904464,
          null,
          0.21650635094610965,
          0.3108809141790284,
          null,
          0.4330127018922193,
          0.3428017223313403,
          null,
          0.4330127018922193,
          0.25259074277046123,
          null,
          0.5773502691896252,
          0.37115374447904464,
          null,
          0.34116152270295985,
          0.30310889132455354,
          null,
          0.7577722283113838,
          0.8660254037844386,
          null,
          0.21650635094610965,
          0.25259074277046123,
          null,
          0.14433756729740643,
          0.28867513459481203,
          null,
          0.09622504486493753,
          0.11547005383792515,
          null,
          0.4330127018922193,
          0.21650635094610965,
          null,
          0.09622504486493753,
          0.2886751345948126,
          null,
          0.5773502691896252,
          0.21650635094610965,
          null,
          0.2886751345948126,
          0.2886751345948126,
          null,
          0.4536323543632767,
          0.28867513459481287,
          null,
          0.38490017945975014,
          0.38490017945975014,
          null,
          0.4536323543632767,
          0.34641016151377546,
          null,
          0.2886751345948126,
          0.2886751345948126,
          null,
          0.34641016151377546,
          0.28867513459481203,
          null,
          0.17320508075688776,
          0.14433756729740643,
          null,
          0.14433756729740643,
          0.11547005383792515,
          null,
          0.38490017945975014,
          0.4149705059800435,
          null,
          0.17320508075688776,
          0.25259074277046123,
          null,
          0.28867513459481203,
          0.3428017223313403,
          null,
          0.39970403251589404,
          0.3574073094983392,
          null,
          0.39970403251589404,
          0.34116152270295985,
          null,
          0.21650635094610965,
          0.09622504486493753,
          null,
          0.25259074277046123,
          0.8660254037844386,
          null,
          0.14433756729740643,
          0.11547005383792515,
          null,
          0.336787657027281,
          0.39970403251589404,
          null,
          0.09622504486493753,
          0.25259074277046123,
          null,
          0.34116152270295985,
          0.37115374447904464,
          null,
          0.2886751345948126,
          0.25259074277046123,
          null,
          0.34116152270295985,
          0.3428017223313403,
          null,
          0.14433756729740643,
          0.11547005383792515,
          null,
          0.2886751345948126,
          0.25259074277046123,
          null,
          0.14433756729740643,
          0,
          null,
          0.4330127018922193,
          0.2886751345948126,
          null,
          0.6928203230275509,
          0.37115374447904464,
          null,
          0.34116152270295985,
          0.28867513459481287,
          null,
          0.09622504486493753,
          0.14433756729740643,
          null,
          0.14433756729740643,
          0.25259074277046123,
          null,
          0.39970403251589404,
          0.38490017945975014,
          null,
          0.4330127018922193,
          0.28867513459481203,
          null,
          0,
          0,
          null,
          0.30310889132455354,
          0.28867513459481287,
          null,
          0.28867513459481203,
          0,
          null,
          0.3574073094983392,
          0.34116152270295985,
          null,
          0.34641016151377546,
          0.34116152270295985,
          null,
          0.25259074277046123,
          0.30310889132455354,
          null,
          0.6928203230275509,
          0.7577722283113838,
          null,
          0.4330127018922193,
          0.34116152270295985,
          null,
          0.4149705059800435,
          0.38490017945975014,
          null,
          0.14433756729740643,
          0.14433756729740643,
          null,
          0.5773502691896252,
          0.6928203230275509,
          null,
          0.28867513459481203,
          0.28867513459481287,
          null,
          0.14433756729740643,
          0.25259074277046123,
          null,
          0.4330127018922193,
          0.34641016151377546,
          null,
          0.28867513459481203,
          0.28867513459481203,
          null,
          0.4536323543632767,
          0.39970403251589404,
          null,
          0.5773502691896252,
          0.34641016151377546,
          null,
          0.4330127018922193,
          0.21650635094610965,
          null,
          0.4149705059800435,
          0.8660254037844386,
          null,
          0.3574073094983392,
          0.38490017945975014,
          null,
          0.34641016151377546,
          0.38490017945975014,
          null,
          0.4330127018922193,
          0.5773502691896252,
          null,
          0.14433756729740643,
          0.14433756729740643,
          null,
          0.21650635094610965,
          0,
          null,
          0.34116152270295985,
          0.28867513459481203,
          null,
          0.6928203230275509,
          0.6062177826491071,
          null,
          0.2566001196398334,
          0.14433756729740643,
          null,
          0.2566001196398334,
          0.25259074277046123,
          null,
          0.4330127018922193,
          0.2886751345948126,
          null,
          0.21650635094610965,
          0,
          null,
          0.6928203230275509,
          0.28867513459481203,
          null,
          0.2886751345948126,
          0.25259074277046123,
          null,
          0.38490017945975014,
          0.37115374447904464,
          null,
          0.34116152270295985,
          0.3108809141790284,
          null,
          0.2566001196398334,
          0.14433756729740643,
          null,
          0.38490017945975014,
          0.3428017223313403,
          null,
          0.4330127018922193,
          0.28867513459481203,
          null,
          0.28867513459481203,
          0.34116152270295985,
          null,
          0.34116152270295985,
          0.3428017223313403,
          null,
          0.4536323543632767,
          0.38490017945975014,
          null,
          0.5773502691896252,
          0.28867513459481203,
          null,
          0.09622504486493753,
          0,
          null,
          0.336787657027281,
          0.30310889132455354,
          null,
          0.7577722283113838,
          0.6062177826491071,
          null,
          0.17320508075688776,
          0.30310889132455354,
          null,
          0.5773502691896252,
          0.25259074277046123,
          null,
          0.14433756729740643,
          0.25259074277046123,
          null,
          0.4536323543632767,
          0.8660254037844386,
          null,
          0.2566001196398334,
          0.14433756729740643,
          null,
          0.21650635094610965,
          0.28867513459481203,
          null,
          0.39970403251589404,
          0.4149705059800435,
          null,
          0.6928203230275509,
          0.34641016151377546,
          null,
          0.37115374447904464,
          0.3428017223313403,
          null,
          0.2886751345948126,
          0.21650635094610965,
          null,
          0.14433756729740643,
          0.25259074277046123,
          null,
          0.2886751345948126,
          0.09622504486493753,
          null,
          0.3108809141790284,
          0.28867513459481203,
          null,
          0.34116152270295985,
          0.38490017945975014,
          null,
          0.2886751345948126,
          0.09622504486493753,
          null,
          0.2886751345948126,
          0.21650635094610965,
          null,
          0.25259074277046123,
          0.6062177826491071,
          null,
          0.336787657027281,
          0.3108809141790284,
          null,
          0.28867513459481203,
          0.25259074277046123,
          null,
          0.4149705059800435,
          0.37115374447904464,
          null,
          0.17320508075688776,
          0.3108809141790284,
          null
         ],
         "z": [
          0.5024594344170619,
          0.5443310539518168,
          null,
          0.5024594344170619,
          0.5195887333176434,
          null,
          0.48989794855663565,
          0,
          null,
          0.40824829046386296,
          0.40824829046386296,
          null,
          0,
          0,
          null,
          0.5195887333176434,
          0.40824829046386296,
          null,
          0,
          0.5024594344170619,
          null,
          0,
          0,
          null,
          0,
          0,
          null,
          0.48989794855663565,
          0.8164965809277259,
          null,
          0.5195887333176434,
          0.4665694748158431,
          null,
          0,
          0,
          null,
          0,
          0.40824829046386296,
          null,
          0.5024594344170619,
          0,
          null,
          0.4665694748158431,
          0.48989794855663565,
          null,
          0.43965200511492897,
          0,
          null,
          0.5443310539518168,
          0,
          null,
          0.5443310539518168,
          0.5195887333176434,
          null,
          0.40824829046386296,
          0.8164965809277259,
          null,
          0,
          0.40824829046386296,
          null,
          0.5443310539518168,
          0.5443310539518168,
          null,
          0.5443310539518168,
          0.5195887333176434,
          null,
          0.2721655269759084,
          0,
          null,
          0.5443310539518168,
          0.48989794855663565,
          null,
          0.583211843519804,
          0.5613413993878116,
          null,
          0,
          0.40824829046386296,
          null,
          0,
          0.5443310539518168,
          null,
          0.5195887333176434,
          0.5443310539518168,
          null,
          0.5195887333176434,
          0.5195887333176434,
          null,
          0,
          0.5443310539518168,
          null,
          0.2721655269759084,
          0,
          null,
          0.40824829046386296,
          0.5024594344170619,
          null,
          0,
          0.40824829046386296,
          null,
          0.40824829046386296,
          0,
          null,
          0,
          0,
          null,
          0.40824829046386296,
          0.3265986323710904,
          null,
          0.3265986323710904,
          0,
          null,
          0,
          0,
          null,
          0,
          0,
          null,
          0,
          0,
          null,
          0.5652668637191947,
          0.8164965809277259,
          null,
          0.40824829046386296,
          0,
          null,
          0.5443310539518168,
          0.4665694748158431,
          null,
          0.48989794855663565,
          0.7257747386024224,
          null,
          0.48989794855663565,
          0.4665694748158431,
          null,
          0.40824829046386296,
          0.43965200511492897,
          null,
          0,
          0.5613413993878116,
          null,
          0,
          0,
          null,
          0.5443310539518168,
          0.8164965809277259,
          null,
          0.7257747386024224,
          0.8164965809277259,
          null,
          0,
          0.4665694748158431,
          null,
          0.5248906591678231,
          0.5443310539518168,
          null,
          0.48989794855663565,
          0.5248906591678231,
          null,
          0.5613413993878116,
          0.48989794855663565,
          null,
          0.48989794855663565,
          0.5103103630798287,
          null,
          0.5443310539518168,
          0.5443310539518168,
          null,
          0.5443310539518168,
          0.5195887333176434,
          null,
          0.40824829046386296,
          0.48989794855663565,
          null,
          0.5103103630798287,
          0.43965200511492897,
          null,
          0.5443310539518168,
          0.5652668637191947,
          null,
          0.5443310539518168,
          0.8164965809277259,
          null,
          0.48989794855663565,
          0.8164965809277259,
          null,
          0,
          0.5024594344170619,
          null,
          0,
          0.5248906591678231,
          null,
          0,
          0.5024594344170619,
          null,
          0,
          0.5103103630798287,
          null,
          0,
          0.40824829046386296,
          null,
          0,
          0.5248906591678231,
          null,
          0.5195887333176434,
          0.48989794855663565,
          null,
          0,
          0,
          null,
          0,
          0.40824829046386296,
          null,
          0.40824829046386296,
          0.4665694748158431,
          null,
          0.2721655269759084,
          0.3265986323710904,
          null,
          0,
          0,
          null,
          0.2721655269759084,
          0,
          null,
          0,
          0,
          null,
          0,
          0,
          null,
          0.583211843519804,
          0.8164965809277259,
          null,
          0.5443310539518168,
          0.5443310539518168,
          null,
          0.583211843519804,
          0.48989794855663565,
          null,
          0,
          0,
          null,
          0.48989794855663565,
          0.43965200511492897,
          null,
          0.48989794855663565,
          0.40824829046386296,
          null,
          0.40824829046386296,
          0.3265986323710904,
          null,
          0.5443310539518168,
          0.5613413993878116,
          null,
          0.48989794855663565,
          0.40824829046386296,
          null,
          0.4665694748158431,
          0.5103103630798287,
          null,
          0.5652668637191947,
          0.5443310539518168,
          null,
          0.5652668637191947,
          0.5195887333176434,
          null,
          0,
          0.2721655269759084,
          null,
          0.40824829046386296,
          0,
          null,
          0.40824829046386296,
          0.3265986323710904,
          null,
          0.5443310539518168,
          0.5652668637191947,
          null,
          0.2721655269759084,
          0.40824829046386296,
          null,
          0.5195887333176434,
          0.5248906591678231,
          null,
          0,
          0.40824829046386296,
          null,
          0.5195887333176434,
          0.5103103630798287,
          null,
          0.40824829046386296,
          0.3265986323710904,
          null,
          0,
          0.40824829046386296,
          null,
          0.40824829046386296,
          0,
          null,
          0,
          0,
          null,
          0,
          0.5248906591678231,
          null,
          0.5195887333176434,
          0.8164965809277259,
          null,
          0.2721655269759084,
          0.40824829046386296,
          null,
          0.40824829046386296,
          0.40824829046386296,
          null,
          0.5652668637191947,
          0.5443310539518168,
          null,
          0,
          0.4665694748158431,
          null,
          0,
          0,
          null,
          0.48989794855663565,
          0.8164965809277259,
          null,
          0.4665694748158431,
          0,
          null,
          0.5443310539518168,
          0.5195887333176434,
          null,
          0.48989794855663565,
          0.5195887333176434,
          null,
          0.40824829046386296,
          0.48989794855663565,
          null,
          0,
          0,
          null,
          0,
          0.5195887333176434,
          null,
          0.5613413993878116,
          0.5443310539518168,
          null,
          0.40824829046386296,
          0.40824829046386296,
          null,
          0,
          0,
          null,
          0.43965200511492897,
          0.8164965809277259,
          null,
          0.40824829046386296,
          0.40824829046386296,
          null,
          0,
          0.48989794855663565,
          null,
          0.4665694748158431,
          0.43965200511492897,
          null,
          0.583211843519804,
          0.5652668637191947,
          null,
          0,
          0.48989794855663565,
          null,
          0,
          0,
          null,
          0.5613413993878116,
          0,
          null,
          0.5443310539518168,
          0.5443310539518168,
          null,
          0.48989794855663565,
          0.5443310539518168,
          null,
          0,
          0,
          null,
          0.40824829046386296,
          0.40824829046386296,
          null,
          0,
          0,
          null,
          0.5195887333176434,
          0.43965200511492897,
          null,
          0,
          0,
          null,
          0.7257747386024224,
          0.40824829046386296,
          null,
          0.7257747386024224,
          0.40824829046386296,
          null,
          0,
          0,
          null,
          0,
          0,
          null,
          0,
          0.43965200511492897,
          null,
          0,
          0.40824829046386296,
          null,
          0.5443310539518168,
          0.5248906591678231,
          null,
          0.5195887333176434,
          0.5024594344170619,
          null,
          0.7257747386024224,
          0.40824829046386296,
          null,
          0.5443310539518168,
          0.5103103630798287,
          null,
          0,
          0.43965200511492897,
          null,
          0.4665694748158431,
          0.5195887333176434,
          null,
          0.5195887333176434,
          0.5103103630798287,
          null,
          0.583211843519804,
          0.5443310539518168,
          null,
          0,
          0.43965200511492897,
          null,
          0.2721655269759084,
          0,
          null,
          0.5443310539518168,
          0.48989794855663565,
          null,
          0,
          0,
          null,
          0.48989794855663565,
          0.48989794855663565,
          null,
          0,
          0.40824829046386296,
          null,
          0.40824829046386296,
          0.40824829046386296,
          null,
          0.583211843519804,
          0,
          null,
          0.7257747386024224,
          0.40824829046386296,
          null,
          0,
          0.4665694748158431,
          null,
          0.5652668637191947,
          0.5613413993878116,
          null,
          0,
          0.48989794855663565,
          null,
          0.5248906591678231,
          0.5103103630798287,
          null,
          0,
          0,
          null,
          0.40824829046386296,
          0.40824829046386296,
          null,
          0,
          0.2721655269759084,
          null,
          0.5024594344170619,
          0.4665694748158431,
          null,
          0.5195887333176434,
          0.5443310539518168,
          null,
          0,
          0.2721655269759084,
          null,
          0,
          0,
          null,
          0.40824829046386296,
          0,
          null,
          0.5443310539518168,
          0.5024594344170619,
          null,
          0.4665694748158431,
          0.40824829046386296,
          null,
          0.5613413993878116,
          0.5248906591678231,
          null,
          0.48989794855663565,
          0.5024594344170619,
          null
         ]
        },
        {
         "hoverinfo": "skip",
         "mode": "text",
         "name": "Labels (stable)",
         "opacity": 1,
         "showlegend": true,
         "text": [
          "Fe<sub>3</sub>(PO<sub>4</sub>)<sub>2</sub>",
          "Fe<sub>3</sub>(P<sub>2</sub>O<sub>7</sub>)<sub>2</sub>",
          "LiFeP<sub>2</sub>O<sub>7</sub>",
          "LiPO<sub>3</sub>",
          "Li<sub>2</sub>O<sub>2</sub>",
          "Li<sub>2</sub>FeO<sub>3</sub>",
          "FeP<sub>2</sub>",
          "LiP",
          "Li<sub>3</sub>PO<sub>4</sub>",
          "Fe<sub>2</sub>P",
          "Fe<sub>3</sub>P",
          "Li<sub>2</sub>Fe<sub>12</sub>P<sub>7</sub>",
          "Li<sub>3</sub>P<sub>7</sub>",
          "Fe<sub>2</sub>O<sub>3</sub>",
          "Fe<sub>2</sub>P<sub>2</sub>O<sub>7</sub>",
          "LiFePO<sub>4</sub>",
          "Li<sub>3</sub>P",
          "FeP<sub>4</sub>",
          "Li<sub>3</sub>Fe<sub>2</sub>(PO<sub>4</sub>)<sub>3</sub>",
          "Li<sub>4</sub>P<sub>2</sub>O<sub>7</sub>",
          "Fe(PO<sub>3</sub>)<sub>2</sub>",
          "FeP",
          "Li<sub>2</sub>O",
          "FePO<sub>4</sub>",
          "P<sub>2</sub>O<sub>5</sub>",
          "FeP<sub>4</sub>O<sub>11</sub>",
          "FeO",
          "LiP<sub>7</sub>",
          "LiFeP",
          "Li<sub>5</sub>FeO<sub>4</sub>",
          "Fe(PO<sub>3</sub>)<sub>3</sub>",
          "LiFeO<sub>2</sub>",
          "LiO<sub>8</sub>",
          "LiFe(PO<sub>3</sub>)<sub>3</sub>",
          "LiFe(PO<sub>3</sub>)<sub>4</sub>",
          "LiFe<sub>2</sub>P<sub>3</sub>O<sub>10</sub>"
         ],
         "textposition": [
          "bottom right",
          "bottom right",
          "bottom right",
          "bottom right",
          "bottom right",
          "bottom right",
          "bottom right",
          "bottom right",
          "bottom right",
          "bottom right",
          "bottom right",
          "bottom right",
          "bottom right",
          "bottom right",
          "bottom right",
          "bottom right",
          "bottom right",
          "bottom right",
          "bottom right",
          "bottom right",
          "bottom right",
          "bottom right",
          "bottom right",
          "bottom right",
          "bottom right",
          "bottom right",
          "bottom right",
          "bottom right",
          "bottom right",
          "bottom right",
          "bottom right",
          "bottom right",
          "bottom right",
          "bottom right",
          "bottom right",
          "bottom right"
         ],
         "type": "scatter3d",
         "visible": "legendonly",
         "x": [
          0.6053846153846141,
          0.5614285714285701,
          0.48999999999999855,
          0.39,
          0.24,
          0.406666666666666,
          0.6566666666666661,
          0.24,
          0.3025,
          0.8233333333333326,
          0.865,
          0.7280952380952376,
          0.34,
          0.6900000000000001,
          0.5809090909090895,
          0.48999999999999855,
          0.115,
          0.5900000000000001,
          0.465,
          0.33615384615384547,
          0.545555555555555,
          0.74,
          0.1566666666666665,
          0.573333333333332,
          0.48999999999999955,
          0.52125,
          0.74,
          0.4275,
          0.48999999999999955,
          0.29000000000000004,
          0.528461538461537,
          0.49,
          0.434444444444444,
          0.489999999999999,
          0.48999999999999905,
          0.52125
         ],
         "y": [
          0.3008809141790284,
          0.3474073094983392,
          0.33116152270295984,
          0.33641016151377545,
          0.13433756729740642,
          0.13433756729740642,
          0.5673502691896252,
          0.4230127018922193,
          0.24259074277046122,
          0.2786751345948126,
          0.20650635094610964,
          0.2786751345948126,
          0.5962177826491071,
          0.16320508075688775,
          0.33116152270295984,
          0.278675134594812,
          0.20650635094610964,
          0.6828203230275509,
          0.29310889132455353,
          0.278675134594812,
          0.3749001794597501,
          0.4230127018922193,
          0.08622504486493754,
          0.32678765702728096,
          0.4436323543632767,
          0.40497050598004347,
          0.13433756729740642,
          0.7477722283113838,
          0.2786751345948126,
          0.10547005383792515,
          0.389704032515894,
          0.13433756729740642,
          0.24660011963983341,
          0.36115374447904464,
          0.3749001794597501,
          0.3328017223313403
         ],
         "z": [
          0.5024594344170619,
          0.5443310539518168,
          0.5195887333176434,
          0.48989794855663565,
          0.40824829046386296,
          0.40824829046386296,
          0,
          0,
          0.40824829046386296,
          0,
          0,
          0,
          0,
          0.48989794855663565,
          0.5195887333176434,
          0.4665694748158431,
          0,
          0,
          0.48989794855663565,
          0.43965200511492897,
          0.5443310539518168,
          0,
          0.2721655269759084,
          0.5443310539518168,
          0.583211843519804,
          0.5613413993878116,
          0.40824829046386296,
          0,
          0,
          0.3265986323710904,
          0.5652668637191947,
          0.40824829046386296,
          0.7257747386024224,
          0.5248906591678231,
          0.5443310539518168,
          0.5103103630798287
         ]
        },
        {
         "alphahull": -1,
         "color": "#2E91E5",
         "flatshading": true,
         "hoverinfo": "skip",
         "legendgroup": "facets",
         "opacity": 0.05,
         "type": "mesh3d",
         "x": [
          0.16666666666666652,
          0.25,
          0.30000000000000004,
          0.3125
         ],
         "y": [
          0.09622504486493753,
          0.14433756729740643,
          0.11547005383792515,
          0.25259074277046123
         ],
         "z": [
          0.2721655269759084,
          0.40824829046386296,
          0.3265986323710904,
          0.40824829046386296
         ]
        },
        {
         "alphahull": -1,
         "color": "#E15F99",
         "flatshading": true,
         "hoverinfo": "skip",
         "legendgroup": "facets",
         "name": "Hull Surfaces (toggle to access points easier)",
         "opacity": 0.05,
         "showlegend": true,
         "type": "mesh3d",
         "x": [
          0.16666666666666652,
          0.125,
          0,
          1
         ],
         "y": [
          0.09622504486493753,
          0.21650635094610965,
          0,
          0
         ],
         "z": [
          0.2721655269759084,
          0,
          0,
          0
         ]
        },
        {
         "alphahull": -1,
         "color": "#1CA71C",
         "flatshading": true,
         "hoverinfo": "skip",
         "legendgroup": "facets",
         "opacity": 0.05,
         "type": "mesh3d",
         "x": [
          0.16666666666666652,
          0.30000000000000004,
          0.3125,
          1
         ],
         "y": [
          0.09622504486493753,
          0.11547005383792515,
          0.25259074277046123,
          0
         ],
         "z": [
          0.2721655269759084,
          0.3265986323710904,
          0.40824829046386296,
          0
         ]
        },
        {
         "alphahull": -1,
         "color": "#FB0D0D",
         "flatshading": true,
         "hoverinfo": "skip",
         "legendgroup": "facets",
         "opacity": 0.05,
         "type": "mesh3d",
         "x": [
          0.6666666666666661,
          0.75,
          0.125,
          0.3125
         ],
         "y": [
          0.5773502691896252,
          0.4330127018922193,
          0.21650635094610965,
          0.25259074277046123
         ],
         "z": [
          0,
          0,
          0,
          0.40824829046386296
         ]
        },
        {
         "alphahull": -1,
         "color": "#DA16FF",
         "flatshading": true,
         "hoverinfo": "skip",
         "legendgroup": "facets",
         "opacity": 0.05,
         "type": "mesh3d",
         "x": [
          0.5,
          0.30000000000000004,
          0.3125,
          1
         ],
         "y": [
          0.14433756729740643,
          0.11547005383792515,
          0.25259074277046123,
          0
         ],
         "z": [
          0.40824829046386296,
          0.3265986323710904,
          0.40824829046386296,
          0
         ]
        },
        {
         "alphahull": -1,
         "color": "#222A2A",
         "flatshading": true,
         "hoverinfo": "skip",
         "legendgroup": "facets",
         "opacity": 0.05,
         "type": "mesh3d",
         "x": [
          0.49999999999999956,
          0.16666666666666652,
          0.125,
          1
         ],
         "y": [
          0.2886751345948126,
          0.09622504486493753,
          0.21650635094610965,
          0
         ],
         "z": [
          0,
          0.2721655269759084,
          0,
          0
         ]
        },
        {
         "alphahull": -1,
         "color": "#B68100",
         "flatshading": true,
         "hoverinfo": "skip",
         "legendgroup": "facets",
         "opacity": 0.05,
         "type": "mesh3d",
         "x": [
          0.49999999999999956,
          0.16666666666666652,
          0.125,
          0.3125
         ],
         "y": [
          0.2886751345948126,
          0.09622504486493753,
          0.21650635094610965,
          0.25259074277046123
         ],
         "z": [
          0,
          0.2721655269759084,
          0,
          0.40824829046386296
         ]
        },
        {
         "alphahull": -1,
         "color": "#750D86",
         "flatshading": true,
         "hoverinfo": "skip",
         "legendgroup": "facets",
         "opacity": 0.05,
         "type": "mesh3d",
         "x": [
          0.49999999999999956,
          0.75,
          0.125,
          0.3125
         ],
         "y": [
          0.2886751345948126,
          0.4330127018922193,
          0.21650635094610965,
          0.25259074277046123
         ],
         "z": [
          0,
          0,
          0,
          0.40824829046386296
         ]
        },
        {
         "alphahull": -1,
         "color": "#EB663B",
         "flatshading": true,
         "hoverinfo": "skip",
         "legendgroup": "facets",
         "opacity": 0.05,
         "type": "mesh3d",
         "x": [
          0.75,
          0.5,
          0.3125,
          1
         ],
         "y": [
          0.14433756729740643,
          0.14433756729740643,
          0.25259074277046123,
          0
         ],
         "z": [
          0.40824829046386296,
          0.40824829046386296,
          0.40824829046386296,
          0
         ]
        },
        {
         "alphahull": -1,
         "color": "#511CFB",
         "flatshading": true,
         "hoverinfo": "skip",
         "legendgroup": "facets",
         "opacity": 0.05,
         "type": "mesh3d",
         "x": [
          0.75,
          0.5,
          0.7000000000000001,
          0.3125
         ],
         "y": [
          0.14433756729740643,
          0.14433756729740643,
          0.17320508075688776,
          0.25259074277046123
         ],
         "z": [
          0.40824829046386296,
          0.40824829046386296,
          0.48989794855663565,
          0.40824829046386296
         ]
        },
        {
         "alphahull": -1,
         "color": "#00A08B",
         "flatshading": true,
         "hoverinfo": "skip",
         "legendgroup": "facets",
         "opacity": 0.05,
         "type": "mesh3d",
         "x": [
          0.416666666666666,
          0.25,
          0.30000000000000004,
          0.3125
         ],
         "y": [
          0.14433756729740643,
          0.14433756729740643,
          0.11547005383792515,
          0.25259074277046123
         ],
         "z": [
          0.40824829046386296,
          0.40824829046386296,
          0.3265986323710904,
          0.40824829046386296
         ]
        },
        {
         "alphahull": -1,
         "color": "#FB00D1",
         "flatshading": true,
         "hoverinfo": "skip",
         "legendgroup": "facets",
         "opacity": 0.05,
         "type": "mesh3d",
         "x": [
          0.416666666666666,
          0.5,
          0.30000000000000004,
          0.3125
         ],
         "y": [
          0.14433756729740643,
          0.14433756729740643,
          0.11547005383792515,
          0.25259074277046123
         ],
         "z": [
          0.40824829046386296,
          0.40824829046386296,
          0.3265986323710904,
          0.40824829046386296
         ]
        },
        {
         "alphahull": -1,
         "color": "#FC0080",
         "flatshading": true,
         "hoverinfo": "skip",
         "legendgroup": "facets",
         "opacity": 0.05,
         "type": "mesh3d",
         "x": [
          0.25,
          0.6666666666666661,
          0.125,
          0.3125
         ],
         "y": [
          0.4330127018922193,
          0.5773502691896252,
          0.21650635094610965,
          0.25259074277046123
         ],
         "z": [
          0,
          0,
          0,
          0.40824829046386296
         ]
        },
        {
         "alphahull": -1,
         "color": "#B2828D",
         "flatshading": true,
         "hoverinfo": "skip",
         "legendgroup": "facets",
         "opacity": 0.05,
         "type": "mesh3d",
         "x": [
          0.25,
          0.6000000000000001,
          0.6666666666666661,
          0.3125
         ],
         "y": [
          0.4330127018922193,
          0.6928203230275509,
          0.5773502691896252,
          0.25259074277046123
         ],
         "z": [
          0,
          0,
          0,
          0.40824829046386296
         ]
        },
        {
         "alphahull": -1,
         "color": "#6C7C32",
         "flatshading": true,
         "hoverinfo": "skip",
         "legendgroup": "facets",
         "opacity": 0.05,
         "type": "mesh3d",
         "x": [
          0.25,
          0.6000000000000001,
          0.35000000000000003,
          0.3125
         ],
         "y": [
          0.4330127018922193,
          0.6928203230275509,
          0.6062177826491071,
          0.25259074277046123
         ],
         "z": [
          0,
          0,
          0,
          0.40824829046386296
         ]
        },
        {
         "alphahull": -1,
         "color": "#778AAE",
         "flatshading": true,
         "hoverinfo": "skip",
         "legendgroup": "facets",
         "opacity": 0.05,
         "type": "mesh3d",
         "x": [
          0.49999999999999906,
          0.49999999999999956,
          0.538461538461537,
          0.5
         ],
         "y": [
          0.38490017945975014,
          0.4536323543632767,
          0.39970403251589404,
          0.28867513459481287
         ],
         "z": [
          0.5443310539518168,
          0.583211843519804,
          0.5652668637191947,
          0.8164965809277259
         ]
        },
        {
         "alphahull": -1,
         "color": "#862A16",
         "flatshading": true,
         "hoverinfo": "skip",
         "legendgroup": "facets",
         "opacity": 0.05,
         "type": "mesh3d",
         "x": [
          0.49999999999999906,
          0.4,
          0.49999999999999956,
          0.5
         ],
         "y": [
          0.38490017945975014,
          0.34641016151377546,
          0.4536323543632767,
          0.28867513459481287
         ],
         "z": [
          0.5443310539518168,
          0.48989794855663565,
          0.583211843519804,
          0.8164965809277259
         ]
        },
        {
         "alphahull": -1,
         "color": "#A777F1",
         "flatshading": true,
         "hoverinfo": "skip",
         "legendgroup": "facets",
         "opacity": 0.05,
         "type": "mesh3d",
         "x": [
          0.49999999999999856,
          0.75,
          0.6153846153846141,
          1
         ],
         "y": [
          0.28867513459481203,
          0.14433756729740643,
          0.3108809141790284,
          0
         ],
         "z": [
          0.4665694748158431,
          0.40824829046386296,
          0.5024594344170619,
          0
         ]
        },
        {
         "alphahull": -1,
         "color": "#620042",
         "flatshading": true,
         "hoverinfo": "skip",
         "legendgroup": "facets",
         "opacity": 0.05,
         "type": "mesh3d",
         "x": [
          0.49999999999999856,
          0.75,
          0.3125,
          1
         ],
         "y": [
          0.28867513459481203,
          0.14433756729740643,
          0.25259074277046123,
          0
         ],
         "z": [
          0.4665694748158431,
          0.40824829046386296,
          0.40824829046386296,
          0
         ]
        },
        {
         "alphahull": -1,
         "color": "#1616A7",
         "flatshading": true,
         "hoverinfo": "skip",
         "legendgroup": "facets",
         "opacity": 0.05,
         "type": "mesh3d",
         "x": [
          0.49999999999999856,
          0.75,
          0.6153846153846141,
          0.7000000000000001
         ],
         "y": [
          0.28867513459481203,
          0.14433756729740643,
          0.3108809141790284,
          0.17320508075688776
         ],
         "z": [
          0.4665694748158431,
          0.40824829046386296,
          0.5024594344170619,
          0.48989794855663565
         ]
        },
        {
         "alphahull": -1,
         "color": "#DA60CA",
         "flatshading": true,
         "hoverinfo": "skip",
         "legendgroup": "facets",
         "opacity": 0.05,
         "type": "mesh3d",
         "x": [
          0.49999999999999856,
          0.75,
          0.7000000000000001,
          0.3125
         ],
         "y": [
          0.28867513459481203,
          0.14433756729740643,
          0.17320508075688776,
          0.25259074277046123
         ],
         "z": [
          0.4665694748158431,
          0.40824829046386296,
          0.48989794855663565,
          0.40824829046386296
         ]
        },
        {
         "alphahull": -1,
         "color": "#6C4516",
         "flatshading": true,
         "hoverinfo": "skip",
         "legendgroup": "facets",
         "opacity": 0.05,
         "type": "mesh3d",
         "x": [
          0.49999999999999856,
          0.8333333333333326,
          0.6153846153846141,
          0.75
         ],
         "y": [
          0.28867513459481203,
          0.2886751345948126,
          0.3108809141790284,
          0.4330127018922193
         ],
         "z": [
          0.4665694748158431,
          0,
          0.5024594344170619,
          0
         ]
        },
        {
         "alphahull": -1,
         "color": "#0D2A63",
         "flatshading": true,
         "hoverinfo": "skip",
         "legendgroup": "facets",
         "opacity": 0.05,
         "type": "mesh3d",
         "x": [
          0.49999999999999856,
          0.8333333333333326,
          0.75,
          0.3125
         ],
         "y": [
          0.28867513459481203,
          0.2886751345948126,
          0.4330127018922193,
          0.25259074277046123
         ],
         "z": [
          0.4665694748158431,
          0,
          0,
          0.40824829046386296
         ]
        },
        {
         "alphahull": -1,
         "color": "#AF0038",
         "flatshading": true,
         "hoverinfo": "skip",
         "legendgroup": "facets",
         "opacity": 0.05,
         "type": "mesh3d",
         "x": [
          0.49999999999999856,
          0.583333333333332,
          0.6153846153846141,
          0.7000000000000001
         ],
         "y": [
          0.28867513459481203,
          0.336787657027281,
          0.3108809141790284,
          0.17320508075688776
         ],
         "z": [
          0.4665694748158431,
          0.5443310539518168,
          0.5024594344170619,
          0.48989794855663565
         ]
        },
        {
         "alphahull": -1,
         "color": "#2E91E5",
         "flatshading": true,
         "hoverinfo": "skip",
         "legendgroup": "facets",
         "opacity": 0.05,
         "type": "mesh3d",
         "x": [
          0.49999999999999856,
          0.5909090909090895,
          0.6153846153846141,
          0.75
         ],
         "y": [
          0.28867513459481203,
          0.34116152270295985,
          0.3108809141790284,
          0.4330127018922193
         ],
         "z": [
          0.4665694748158431,
          0.5195887333176434,
          0.5024594344170619,
          0
         ]
        },
        {
         "alphahull": -1,
         "color": "#E15F99",
         "flatshading": true,
         "hoverinfo": "skip",
         "legendgroup": "facets",
         "opacity": 0.05,
         "type": "mesh3d",
         "x": [
          0.49999999999999856,
          0.5909090909090895,
          0.53125,
          0.75
         ],
         "y": [
          0.28867513459481203,
          0.34116152270295985,
          0.3428017223313403,
          0.4330127018922193
         ],
         "z": [
          0.4665694748158431,
          0.5195887333176434,
          0.5103103630798287,
          0
         ]
        },
        {
         "alphahull": -1,
         "color": "#1CA71C",
         "flatshading": true,
         "hoverinfo": "skip",
         "legendgroup": "facets",
         "opacity": 0.05,
         "type": "mesh3d",
         "x": [
          0.44444444444444403,
          0.416666666666666,
          0.25,
          0.3125
         ],
         "y": [
          0.2566001196398334,
          0.14433756729740643,
          0.14433756729740643,
          0.25259074277046123
         ],
         "z": [
          0.7257747386024224,
          0.40824829046386296,
          0.40824829046386296,
          0.40824829046386296
         ]
        },
        {
         "alphahull": -1,
         "color": "#FB0D0D",
         "flatshading": true,
         "hoverinfo": "skip",
         "legendgroup": "facets",
         "opacity": 0.05,
         "type": "mesh3d",
         "x": [
          0.44444444444444403,
          0.416666666666666,
          0.5,
          0.3125
         ],
         "y": [
          0.2566001196398334,
          0.14433756729740643,
          0.14433756729740643,
          0.25259074277046123
         ],
         "z": [
          0.7257747386024224,
          0.40824829046386296,
          0.40824829046386296,
          0.40824829046386296
         ]
        },
        {
         "alphahull": -1,
         "color": "#DA16FF",
         "flatshading": true,
         "hoverinfo": "skip",
         "legendgroup": "facets",
         "opacity": 0.05,
         "type": "mesh3d",
         "x": [
          0.44444444444444403,
          0.7000000000000001,
          0.3125,
          0.5
         ],
         "y": [
          0.2566001196398334,
          0.17320508075688776,
          0.25259074277046123,
          0.28867513459481287
         ],
         "z": [
          0.7257747386024224,
          0.48989794855663565,
          0.40824829046386296,
          0.8164965809277259
         ]
        },
        {
         "alphahull": -1,
         "color": "#222A2A",
         "flatshading": true,
         "hoverinfo": "skip",
         "legendgroup": "facets",
         "opacity": 0.05,
         "type": "mesh3d",
         "x": [
          0.44444444444444403,
          0.5,
          0.7000000000000001,
          0.3125
         ],
         "y": [
          0.2566001196398334,
          0.14433756729740643,
          0.17320508075688776,
          0.25259074277046123
         ],
         "z": [
          0.7257747386024224,
          0.40824829046386296,
          0.48989794855663565,
          0.40824829046386296
         ]
        },
        {
         "alphahull": -1,
         "color": "#B68100",
         "flatshading": true,
         "hoverinfo": "skip",
         "legendgroup": "facets",
         "opacity": 0.05,
         "type": "mesh3d",
         "x": [
          0.3461538461538455,
          0.49999999999999856,
          0.75,
          0.3125
         ],
         "y": [
          0.28867513459481203,
          0.28867513459481203,
          0.4330127018922193,
          0.25259074277046123
         ],
         "z": [
          0.43965200511492897,
          0.4665694748158431,
          0,
          0.40824829046386296
         ]
        },
        {
         "alphahull": -1,
         "color": "#750D86",
         "flatshading": true,
         "hoverinfo": "skip",
         "legendgroup": "facets",
         "opacity": 0.05,
         "type": "mesh3d",
         "x": [
          0.3461538461538455,
          0.6666666666666661,
          0.75,
          0.3125
         ],
         "y": [
          0.28867513459481203,
          0.5773502691896252,
          0.4330127018922193,
          0.25259074277046123
         ],
         "z": [
          0.43965200511492897,
          0,
          0,
          0.40824829046386296
         ]
        },
        {
         "alphahull": -1,
         "color": "#EB663B",
         "flatshading": true,
         "hoverinfo": "skip",
         "legendgroup": "facets",
         "opacity": 0.05,
         "type": "mesh3d",
         "x": [
          0.3461538461538455,
          0.4,
          0.6666666666666661,
          0.75
         ],
         "y": [
          0.28867513459481203,
          0.34641016151377546,
          0.5773502691896252,
          0.4330127018922193
         ],
         "z": [
          0.43965200511492897,
          0.48989794855663565,
          0,
          0
         ]
        },
        {
         "alphahull": -1,
         "color": "#511CFB",
         "flatshading": true,
         "hoverinfo": "skip",
         "legendgroup": "facets",
         "opacity": 0.05,
         "type": "mesh3d",
         "x": [
          0.3461538461538455,
          0.4,
          0.53125,
          0.75
         ],
         "y": [
          0.28867513459481203,
          0.34641016151377546,
          0.3428017223313403,
          0.4330127018922193
         ],
         "z": [
          0.43965200511492897,
          0.48989794855663565,
          0.5103103630798287,
          0
         ]
        },
        {
         "alphahull": -1,
         "color": "#00A08B",
         "flatshading": true,
         "hoverinfo": "skip",
         "legendgroup": "facets",
         "opacity": 0.05,
         "type": "mesh3d",
         "x": [
          0.3461538461538455,
          0.49999999999999856,
          0.53125,
          0.75
         ],
         "y": [
          0.28867513459481203,
          0.28867513459481203,
          0.3428017223313403,
          0.4330127018922193
         ],
         "z": [
          0.43965200511492897,
          0.4665694748158431,
          0.5103103630798287,
          0
         ]
        },
        {
         "alphahull": -1,
         "color": "#FB00D1",
         "flatshading": true,
         "hoverinfo": "skip",
         "legendgroup": "facets",
         "opacity": 0.05,
         "type": "mesh3d",
         "x": [
          0.3461538461538455,
          0.6000000000000001,
          0.6666666666666661,
          0.3125
         ],
         "y": [
          0.28867513459481203,
          0.6928203230275509,
          0.5773502691896252,
          0.25259074277046123
         ],
         "z": [
          0.43965200511492897,
          0,
          0,
          0.40824829046386296
         ]
        },
        {
         "alphahull": -1,
         "color": "#FC0080",
         "flatshading": true,
         "hoverinfo": "skip",
         "legendgroup": "facets",
         "opacity": 0.05,
         "type": "mesh3d",
         "x": [
          0.3461538461538455,
          0.6000000000000001,
          0.4,
          0.6666666666666661
         ],
         "y": [
          0.28867513459481203,
          0.6928203230275509,
          0.34641016151377546,
          0.5773502691896252
         ],
         "z": [
          0.43965200511492897,
          0,
          0.48989794855663565,
          0
         ]
        },
        {
         "alphahull": -1,
         "color": "#B2828D",
         "flatshading": true,
         "hoverinfo": "skip",
         "legendgroup": "facets",
         "opacity": 0.05,
         "type": "mesh3d",
         "x": [
          0.3461538461538455,
          0.6000000000000001,
          0.3125,
          0.5
         ],
         "y": [
          0.28867513459481203,
          0.6928203230275509,
          0.25259074277046123,
          0.8660254037844386
         ],
         "z": [
          0.43965200511492897,
          0,
          0.40824829046386296,
          0
         ]
        },
        {
         "alphahull": -1,
         "color": "#6C7C32",
         "flatshading": true,
         "hoverinfo": "skip",
         "legendgroup": "facets",
         "opacity": 0.05,
         "type": "mesh3d",
         "x": [
          0.3461538461538455,
          0.6000000000000001,
          0.4,
          0.5
         ],
         "y": [
          0.28867513459481203,
          0.6928203230275509,
          0.34641016151377546,
          0.8660254037844386
         ],
         "z": [
          0.43965200511492897,
          0,
          0.48989794855663565,
          0
         ]
        },
        {
         "alphahull": -1,
         "color": "#778AAE",
         "flatshading": true,
         "hoverinfo": "skip",
         "legendgroup": "facets",
         "opacity": 0.05,
         "type": "mesh3d",
         "x": [
          0.875,
          0.49999999999999956,
          0.16666666666666652,
          1
         ],
         "y": [
          0.21650635094610965,
          0.2886751345948126,
          0.09622504486493753,
          0
         ],
         "z": [
          0,
          0,
          0.2721655269759084,
          0
         ]
        },
        {
         "alphahull": -1,
         "color": "#862A16",
         "flatshading": true,
         "hoverinfo": "skip",
         "legendgroup": "facets",
         "opacity": 0.05,
         "type": "mesh3d",
         "x": [
          0.875,
          0.16666666666666652,
          0.3125,
          1
         ],
         "y": [
          0.21650635094610965,
          0.09622504486493753,
          0.25259074277046123,
          0
         ],
         "z": [
          0,
          0.2721655269759084,
          0.40824829046386296,
          0
         ]
        },
        {
         "alphahull": -1,
         "color": "#A777F1",
         "flatshading": true,
         "hoverinfo": "skip",
         "legendgroup": "facets",
         "opacity": 0.05,
         "type": "mesh3d",
         "x": [
          0.875,
          0.8333333333333326,
          0.16666666666666652,
          0.3125
         ],
         "y": [
          0.21650635094610965,
          0.2886751345948126,
          0.09622504486493753,
          0.25259074277046123
         ],
         "z": [
          0,
          0,
          0.2721655269759084,
          0.40824829046386296
         ]
        },
        {
         "alphahull": -1,
         "color": "#620042",
         "flatshading": true,
         "hoverinfo": "skip",
         "legendgroup": "facets",
         "opacity": 0.05,
         "type": "mesh3d",
         "x": [
          0.875,
          0.49999999999999856,
          0.3125,
          1
         ],
         "y": [
          0.21650635094610965,
          0.28867513459481203,
          0.25259074277046123,
          0
         ],
         "z": [
          0,
          0.4665694748158431,
          0.40824829046386296,
          0
         ]
        },
        {
         "alphahull": -1,
         "color": "#1616A7",
         "flatshading": true,
         "hoverinfo": "skip",
         "legendgroup": "facets",
         "opacity": 0.05,
         "type": "mesh3d",
         "x": [
          0.875,
          0.49999999999999856,
          0.8333333333333326,
          0.3125
         ],
         "y": [
          0.21650635094610965,
          0.28867513459481203,
          0.2886751345948126,
          0.25259074277046123
         ],
         "z": [
          0,
          0.4665694748158431,
          0,
          0.40824829046386296
         ]
        },
        {
         "alphahull": -1,
         "color": "#DA60CA",
         "flatshading": true,
         "hoverinfo": "skip",
         "legendgroup": "facets",
         "opacity": 0.05,
         "type": "mesh3d",
         "x": [
          0.875,
          0.49999999999999856,
          0.6153846153846141,
          1
         ],
         "y": [
          0.21650635094610965,
          0.28867513459481203,
          0.3108809141790284,
          0
         ],
         "z": [
          0,
          0.4665694748158431,
          0.5024594344170619,
          0
         ]
        },
        {
         "alphahull": -1,
         "color": "#6C4516",
         "flatshading": true,
         "hoverinfo": "skip",
         "legendgroup": "facets",
         "opacity": 0.05,
         "type": "mesh3d",
         "x": [
          0.875,
          0.49999999999999856,
          0.8333333333333326,
          0.6153846153846141
         ],
         "y": [
          0.21650635094610965,
          0.28867513459481203,
          0.2886751345948126,
          0.3108809141790284
         ],
         "z": [
          0,
          0.4665694748158431,
          0,
          0.5024594344170619
         ]
        },
        {
         "alphahull": -1,
         "color": "#0D2A63",
         "flatshading": true,
         "hoverinfo": "skip",
         "legendgroup": "facets",
         "opacity": 0.05,
         "type": "mesh3d",
         "x": [
          0.4375,
          0.6000000000000001,
          0.3125,
          0.5
         ],
         "y": [
          0.7577722283113838,
          0.6928203230275509,
          0.25259074277046123,
          0.8660254037844386
         ],
         "z": [
          0,
          0,
          0.40824829046386296,
          0
         ]
        },
        {
         "alphahull": -1,
         "color": "#AF0038",
         "flatshading": true,
         "hoverinfo": "skip",
         "legendgroup": "facets",
         "opacity": 0.05,
         "type": "mesh3d",
         "x": [
          0.4375,
          0.6000000000000001,
          0.35000000000000003,
          0.3125
         ],
         "y": [
          0.7577722283113838,
          0.6928203230275509,
          0.6062177826491071,
          0.25259074277046123
         ],
         "z": [
          0,
          0,
          0,
          0.40824829046386296
         ]
        },
        {
         "alphahull": -1,
         "color": "#2E91E5",
         "flatshading": true,
         "hoverinfo": "skip",
         "legendgroup": "facets",
         "opacity": 0.05,
         "type": "mesh3d",
         "x": [
          0.53125,
          0.4,
          0.49999999999999956,
          0.5
         ],
         "y": [
          0.4149705059800435,
          0.34641016151377546,
          0.4536323543632767,
          0.8660254037844386
         ],
         "z": [
          0.5613413993878116,
          0.48989794855663565,
          0.583211843519804,
          0
         ]
        },
        {
         "alphahull": -1,
         "color": "#E15F99",
         "flatshading": true,
         "hoverinfo": "skip",
         "legendgroup": "facets",
         "opacity": 0.05,
         "type": "mesh3d",
         "x": [
          0.53125,
          0.6000000000000001,
          0.4,
          0.5
         ],
         "y": [
          0.4149705059800435,
          0.6928203230275509,
          0.34641016151377546,
          0.8660254037844386
         ],
         "z": [
          0.5613413993878116,
          0,
          0.48989794855663565,
          0
         ]
        },
        {
         "alphahull": -1,
         "color": "#1CA71C",
         "flatshading": true,
         "hoverinfo": "skip",
         "legendgroup": "facets",
         "opacity": 0.05,
         "type": "mesh3d",
         "x": [
          0.53125,
          0.49999999999999906,
          0.4,
          0.49999999999999956
         ],
         "y": [
          0.4149705059800435,
          0.38490017945975014,
          0.34641016151377546,
          0.4536323543632767
         ],
         "z": [
          0.5613413993878116,
          0.5443310539518168,
          0.48989794855663565,
          0.583211843519804
         ]
        },
        {
         "alphahull": -1,
         "color": "#FB0D0D",
         "flatshading": true,
         "hoverinfo": "skip",
         "legendgroup": "facets",
         "opacity": 0.05,
         "type": "mesh3d",
         "x": [
          0.53125,
          0.49999999999999906,
          0.49999999999999956,
          0.538461538461537
         ],
         "y": [
          0.4149705059800435,
          0.38490017945975014,
          0.4536323543632767,
          0.39970403251589404
         ],
         "z": [
          0.5613413993878116,
          0.5443310539518168,
          0.583211843519804,
          0.5652668637191947
         ]
        },
        {
         "alphahull": -1,
         "color": "#DA16FF",
         "flatshading": true,
         "hoverinfo": "skip",
         "legendgroup": "facets",
         "opacity": 0.05,
         "type": "mesh3d",
         "x": [
          0.47500000000000003,
          0.49999999999999856,
          0.7000000000000001,
          0.3125
         ],
         "y": [
          0.30310889132455354,
          0.28867513459481203,
          0.17320508075688776,
          0.25259074277046123
         ],
         "z": [
          0.48989794855663565,
          0.4665694748158431,
          0.48989794855663565,
          0.40824829046386296
         ]
        },
        {
         "alphahull": -1,
         "color": "#222A2A",
         "flatshading": true,
         "hoverinfo": "skip",
         "legendgroup": "facets",
         "opacity": 0.05,
         "type": "mesh3d",
         "x": [
          0.47500000000000003,
          0.49999999999999856,
          0.583333333333332,
          0.7000000000000001
         ],
         "y": [
          0.30310889132455354,
          0.28867513459481203,
          0.336787657027281,
          0.17320508075688776
         ],
         "z": [
          0.48989794855663565,
          0.4665694748158431,
          0.5443310539518168,
          0.48989794855663565
         ]
        },
        {
         "alphahull": -1,
         "color": "#B68100",
         "flatshading": true,
         "hoverinfo": "skip",
         "legendgroup": "facets",
         "opacity": 0.05,
         "type": "mesh3d",
         "x": [
          0.47500000000000003,
          0.583333333333332,
          0.7000000000000001,
          0.5
         ],
         "y": [
          0.30310889132455354,
          0.336787657027281,
          0.17320508075688776,
          0.28867513459481287
         ],
         "z": [
          0.48989794855663565,
          0.5443310539518168,
          0.48989794855663565,
          0.8164965809277259
         ]
        },
        {
         "alphahull": -1,
         "color": "#750D86",
         "flatshading": true,
         "hoverinfo": "skip",
         "legendgroup": "facets",
         "opacity": 0.05,
         "type": "mesh3d",
         "x": [
          0.47500000000000003,
          0.7000000000000001,
          0.3125,
          0.5
         ],
         "y": [
          0.30310889132455354,
          0.17320508075688776,
          0.25259074277046123,
          0.28867513459481287
         ],
         "z": [
          0.48989794855663565,
          0.48989794855663565,
          0.40824829046386296,
          0.8164965809277259
         ]
        },
        {
         "alphahull": -1,
         "color": "#EB663B",
         "flatshading": true,
         "hoverinfo": "skip",
         "legendgroup": "facets",
         "opacity": 0.05,
         "type": "mesh3d",
         "x": [
          0.7380952380952376,
          0.875,
          0.49999999999999956,
          0.16666666666666652
         ],
         "y": [
          0.2886751345948126,
          0.21650635094610965,
          0.2886751345948126,
          0.09622504486493753
         ],
         "z": [
          0,
          0,
          0,
          0.2721655269759084
         ]
        },
        {
         "alphahull": -1,
         "color": "#511CFB",
         "flatshading": true,
         "hoverinfo": "skip",
         "legendgroup": "facets",
         "opacity": 0.05,
         "type": "mesh3d",
         "x": [
          0.7380952380952376,
          0.875,
          0.8333333333333326,
          0.16666666666666652
         ],
         "y": [
          0.2886751345948126,
          0.21650635094610965,
          0.2886751345948126,
          0.09622504486493753
         ],
         "z": [
          0,
          0,
          0,
          0.2721655269759084
         ]
        },
        {
         "alphahull": -1,
         "color": "#00A08B",
         "flatshading": true,
         "hoverinfo": "skip",
         "legendgroup": "facets",
         "opacity": 0.05,
         "type": "mesh3d",
         "x": [
          0.7380952380952376,
          0.49999999999999956,
          0.16666666666666652,
          0.3125
         ],
         "y": [
          0.2886751345948126,
          0.2886751345948126,
          0.09622504486493753,
          0.25259074277046123
         ],
         "z": [
          0,
          0,
          0.2721655269759084,
          0.40824829046386296
         ]
        },
        {
         "alphahull": -1,
         "color": "#FB00D1",
         "flatshading": true,
         "hoverinfo": "skip",
         "legendgroup": "facets",
         "opacity": 0.05,
         "type": "mesh3d",
         "x": [
          0.7380952380952376,
          0.8333333333333326,
          0.16666666666666652,
          0.3125
         ],
         "y": [
          0.2886751345948126,
          0.2886751345948126,
          0.09622504486493753,
          0.25259074277046123
         ],
         "z": [
          0,
          0,
          0.2721655269759084,
          0.40824829046386296
         ]
        },
        {
         "alphahull": -1,
         "color": "#FC0080",
         "flatshading": true,
         "hoverinfo": "skip",
         "legendgroup": "facets",
         "opacity": 0.05,
         "type": "mesh3d",
         "x": [
          0.7380952380952376,
          0.49999999999999956,
          0.75,
          0.3125
         ],
         "y": [
          0.2886751345948126,
          0.2886751345948126,
          0.4330127018922193,
          0.25259074277046123
         ],
         "z": [
          0,
          0,
          0,
          0.40824829046386296
         ]
        },
        {
         "alphahull": -1,
         "color": "#B2828D",
         "flatshading": true,
         "hoverinfo": "skip",
         "legendgroup": "facets",
         "opacity": 0.05,
         "type": "mesh3d",
         "x": [
          0.7380952380952376,
          0.8333333333333326,
          0.75,
          0.3125
         ],
         "y": [
          0.2886751345948126,
          0.2886751345948126,
          0.4330127018922193,
          0.25259074277046123
         ],
         "z": [
          0,
          0,
          0,
          0.40824829046386296
         ]
        },
        {
         "alphahull": -1,
         "color": "#6C7C32",
         "flatshading": true,
         "hoverinfo": "skip",
         "legendgroup": "facets",
         "opacity": 0.05,
         "type": "mesh3d",
         "x": [
          0.555555555555555,
          0.53125,
          0.49999999999999906,
          0.538461538461537
         ],
         "y": [
          0.38490017945975014,
          0.4149705059800435,
          0.38490017945975014,
          0.39970403251589404
         ],
         "z": [
          0.5443310539518168,
          0.5613413993878116,
          0.5443310539518168,
          0.5652668637191947
         ]
        },
        {
         "alphahull": -1,
         "color": "#778AAE",
         "flatshading": true,
         "hoverinfo": "skip",
         "legendgroup": "facets",
         "opacity": 0.05,
         "type": "mesh3d",
         "x": [
          0.555555555555555,
          0.5909090909090895,
          0.53125,
          0.75
         ],
         "y": [
          0.38490017945975014,
          0.34116152270295985,
          0.3428017223313403,
          0.4330127018922193
         ],
         "z": [
          0.5443310539518168,
          0.5195887333176434,
          0.5103103630798287,
          0
         ]
        },
        {
         "alphahull": -1,
         "color": "#862A16",
         "flatshading": true,
         "hoverinfo": "skip",
         "legendgroup": "facets",
         "opacity": 0.05,
         "type": "mesh3d",
         "x": [
          0.499999999999999,
          0.53125,
          0.49999999999999906,
          0.4
         ],
         "y": [
          0.37115374447904464,
          0.4149705059800435,
          0.38490017945975014,
          0.34641016151377546
         ],
         "z": [
          0.5248906591678231,
          0.5613413993878116,
          0.5443310539518168,
          0.48989794855663565
         ]
        },
        {
         "alphahull": -1,
         "color": "#A777F1",
         "flatshading": true,
         "hoverinfo": "skip",
         "legendgroup": "facets",
         "opacity": 0.05,
         "type": "mesh3d",
         "x": [
          0.499999999999999,
          0.555555555555555,
          0.53125,
          0.49999999999999906
         ],
         "y": [
          0.37115374447904464,
          0.38490017945975014,
          0.4149705059800435,
          0.38490017945975014
         ],
         "z": [
          0.5248906591678231,
          0.5443310539518168,
          0.5613413993878116,
          0.5443310539518168
         ]
        },
        {
         "alphahull": -1,
         "color": "#620042",
         "flatshading": true,
         "hoverinfo": "skip",
         "legendgroup": "facets",
         "opacity": 0.05,
         "type": "mesh3d",
         "x": [
          0.499999999999999,
          0.555555555555555,
          0.53125,
          0.6000000000000001
         ],
         "y": [
          0.37115374447904464,
          0.38490017945975014,
          0.4149705059800435,
          0.6928203230275509
         ],
         "z": [
          0.5248906591678231,
          0.5443310539518168,
          0.5613413993878116,
          0
         ]
        },
        {
         "alphahull": -1,
         "color": "#1616A7",
         "flatshading": true,
         "hoverinfo": "skip",
         "legendgroup": "facets",
         "opacity": 0.05,
         "type": "mesh3d",
         "x": [
          0.499999999999999,
          0.53125,
          0.6000000000000001,
          0.4
         ],
         "y": [
          0.37115374447904464,
          0.4149705059800435,
          0.6928203230275509,
          0.34641016151377546
         ],
         "z": [
          0.5248906591678231,
          0.5613413993878116,
          0,
          0.48989794855663565
         ]
        },
        {
         "alphahull": -1,
         "color": "#DA60CA",
         "flatshading": true,
         "hoverinfo": "skip",
         "legendgroup": "facets",
         "opacity": 0.05,
         "type": "mesh3d",
         "x": [
          0.499999999999999,
          0.555555555555555,
          0.6000000000000001,
          0.6666666666666661
         ],
         "y": [
          0.37115374447904464,
          0.38490017945975014,
          0.6928203230275509,
          0.5773502691896252
         ],
         "z": [
          0.5248906591678231,
          0.5443310539518168,
          0,
          0
         ]
        },
        {
         "alphahull": -1,
         "color": "#6C4516",
         "flatshading": true,
         "hoverinfo": "skip",
         "legendgroup": "facets",
         "opacity": 0.05,
         "type": "mesh3d",
         "x": [
          0.499999999999999,
          0.6000000000000001,
          0.4,
          0.6666666666666661
         ],
         "y": [
          0.37115374447904464,
          0.6928203230275509,
          0.34641016151377546,
          0.5773502691896252
         ],
         "z": [
          0.5248906591678231,
          0,
          0.48989794855663565,
          0
         ]
        },
        {
         "alphahull": -1,
         "color": "#0D2A63",
         "flatshading": true,
         "hoverinfo": "skip",
         "legendgroup": "facets",
         "opacity": 0.05,
         "type": "mesh3d",
         "x": [
          0.499999999999999,
          0.4,
          0.53125,
          0.75
         ],
         "y": [
          0.37115374447904464,
          0.34641016151377546,
          0.3428017223313403,
          0.4330127018922193
         ],
         "z": [
          0.5248906591678231,
          0.48989794855663565,
          0.5103103630798287,
          0
         ]
        },
        {
         "alphahull": -1,
         "color": "#AF0038",
         "flatshading": true,
         "hoverinfo": "skip",
         "legendgroup": "facets",
         "opacity": 0.05,
         "type": "mesh3d",
         "x": [
          0.499999999999999,
          0.555555555555555,
          0.53125,
          0.75
         ],
         "y": [
          0.37115374447904464,
          0.38490017945975014,
          0.3428017223313403,
          0.4330127018922193
         ],
         "z": [
          0.5248906591678231,
          0.5443310539518168,
          0.5103103630798287,
          0
         ]
        },
        {
         "alphahull": -1,
         "color": "#2E91E5",
         "flatshading": true,
         "hoverinfo": "skip",
         "legendgroup": "facets",
         "opacity": 0.05,
         "type": "mesh3d",
         "x": [
          0.499999999999999,
          0.555555555555555,
          0.6666666666666661,
          0.75
         ],
         "y": [
          0.37115374447904464,
          0.38490017945975014,
          0.5773502691896252,
          0.4330127018922193
         ],
         "z": [
          0.5248906591678231,
          0.5443310539518168,
          0,
          0
         ]
        },
        {
         "alphahull": -1,
         "color": "#E15F99",
         "flatshading": true,
         "hoverinfo": "skip",
         "legendgroup": "facets",
         "opacity": 0.05,
         "type": "mesh3d",
         "x": [
          0.499999999999999,
          0.4,
          0.6666666666666661,
          0.75
         ],
         "y": [
          0.37115374447904464,
          0.34641016151377546,
          0.5773502691896252,
          0.4330127018922193
         ],
         "z": [
          0.5248906591678231,
          0.48989794855663565,
          0,
          0
         ]
        },
        {
         "alphahull": -1,
         "color": "#1CA71C",
         "flatshading": true,
         "hoverinfo": "skip",
         "legendgroup": "facets",
         "opacity": 0.05,
         "type": "mesh3d",
         "x": [
          0.49999999999999856,
          0.3461538461538455,
          0.4,
          0.5
         ],
         "y": [
          0.34116152270295985,
          0.28867513459481203,
          0.34641016151377546,
          0.28867513459481287
         ],
         "z": [
          0.5195887333176434,
          0.43965200511492897,
          0.48989794855663565,
          0.8164965809277259
         ]
        },
        {
         "alphahull": -1,
         "color": "#FB0D0D",
         "flatshading": true,
         "hoverinfo": "skip",
         "legendgroup": "facets",
         "opacity": 0.05,
         "type": "mesh3d",
         "x": [
          0.49999999999999856,
          0.49999999999999906,
          0.4,
          0.5
         ],
         "y": [
          0.34116152270295985,
          0.38490017945975014,
          0.34641016151377546,
          0.28867513459481287
         ],
         "z": [
          0.5195887333176434,
          0.5443310539518168,
          0.48989794855663565,
          0.8164965809277259
         ]
        },
        {
         "alphahull": -1,
         "color": "#DA16FF",
         "flatshading": true,
         "hoverinfo": "skip",
         "legendgroup": "facets",
         "opacity": 0.05,
         "type": "mesh3d",
         "x": [
          0.49999999999999856,
          0.3461538461538455,
          0.3125,
          0.5
         ],
         "y": [
          0.34116152270295985,
          0.28867513459481203,
          0.25259074277046123,
          0.28867513459481287
         ],
         "z": [
          0.5195887333176434,
          0.43965200511492897,
          0.40824829046386296,
          0.8164965809277259
         ]
        },
        {
         "alphahull": -1,
         "color": "#222A2A",
         "flatshading": true,
         "hoverinfo": "skip",
         "legendgroup": "facets",
         "opacity": 0.05,
         "type": "mesh3d",
         "x": [
          0.49999999999999856,
          0.3461538461538455,
          0.4,
          0.53125
         ],
         "y": [
          0.34116152270295985,
          0.28867513459481203,
          0.34641016151377546,
          0.3428017223313403
         ],
         "z": [
          0.5195887333176434,
          0.43965200511492897,
          0.48989794855663565,
          0.5103103630798287
         ]
        },
        {
         "alphahull": -1,
         "color": "#B68100",
         "flatshading": true,
         "hoverinfo": "skip",
         "legendgroup": "facets",
         "opacity": 0.05,
         "type": "mesh3d",
         "x": [
          0.49999999999999856,
          0.499999999999999,
          0.49999999999999906,
          0.4
         ],
         "y": [
          0.34116152270295985,
          0.37115374447904464,
          0.38490017945975014,
          0.34641016151377546
         ],
         "z": [
          0.5195887333176434,
          0.5248906591678231,
          0.5443310539518168,
          0.48989794855663565
         ]
        },
        {
         "alphahull": -1,
         "color": "#750D86",
         "flatshading": true,
         "hoverinfo": "skip",
         "legendgroup": "facets",
         "opacity": 0.05,
         "type": "mesh3d",
         "x": [
          0.49999999999999856,
          0.47500000000000003,
          0.3125,
          0.5
         ],
         "y": [
          0.34116152270295985,
          0.30310889132455354,
          0.25259074277046123,
          0.28867513459481287
         ],
         "z": [
          0.5195887333176434,
          0.48989794855663565,
          0.40824829046386296,
          0.8164965809277259
         ]
        },
        {
         "alphahull": -1,
         "color": "#EB663B",
         "flatshading": true,
         "hoverinfo": "skip",
         "legendgroup": "facets",
         "opacity": 0.05,
         "type": "mesh3d",
         "x": [
          0.49999999999999856,
          0.3461538461538455,
          0.49999999999999856,
          0.3125
         ],
         "y": [
          0.34116152270295985,
          0.28867513459481203,
          0.28867513459481203,
          0.25259074277046123
         ],
         "z": [
          0.5195887333176434,
          0.43965200511492897,
          0.4665694748158431,
          0.40824829046386296
         ]
        },
        {
         "alphahull": -1,
         "color": "#511CFB",
         "flatshading": true,
         "hoverinfo": "skip",
         "legendgroup": "facets",
         "opacity": 0.05,
         "type": "mesh3d",
         "x": [
          0.49999999999999856,
          0.499999999999999,
          0.4,
          0.53125
         ],
         "y": [
          0.34116152270295985,
          0.37115374447904464,
          0.34641016151377546,
          0.3428017223313403
         ],
         "z": [
          0.5195887333176434,
          0.5248906591678231,
          0.48989794855663565,
          0.5103103630798287
         ]
        },
        {
         "alphahull": -1,
         "color": "#00A08B",
         "flatshading": true,
         "hoverinfo": "skip",
         "legendgroup": "facets",
         "opacity": 0.05,
         "type": "mesh3d",
         "x": [
          0.49999999999999856,
          0.3461538461538455,
          0.49999999999999856,
          0.53125
         ],
         "y": [
          0.34116152270295985,
          0.28867513459481203,
          0.28867513459481203,
          0.3428017223313403
         ],
         "z": [
          0.5195887333176434,
          0.43965200511492897,
          0.4665694748158431,
          0.5103103630798287
         ]
        },
        {
         "alphahull": -1,
         "color": "#FB00D1",
         "flatshading": true,
         "hoverinfo": "skip",
         "legendgroup": "facets",
         "opacity": 0.05,
         "type": "mesh3d",
         "x": [
          0.49999999999999856,
          0.49999999999999906,
          0.538461538461537,
          0.5
         ],
         "y": [
          0.34116152270295985,
          0.38490017945975014,
          0.39970403251589404,
          0.28867513459481287
         ],
         "z": [
          0.5195887333176434,
          0.5443310539518168,
          0.5652668637191947,
          0.8164965809277259
         ]
        },
        {
         "alphahull": -1,
         "color": "#FC0080",
         "flatshading": true,
         "hoverinfo": "skip",
         "legendgroup": "facets",
         "opacity": 0.05,
         "type": "mesh3d",
         "x": [
          0.49999999999999856,
          0.499999999999999,
          0.555555555555555,
          0.49999999999999906
         ],
         "y": [
          0.34116152270295985,
          0.37115374447904464,
          0.38490017945975014,
          0.38490017945975014
         ],
         "z": [
          0.5195887333176434,
          0.5248906591678231,
          0.5443310539518168,
          0.5443310539518168
         ]
        },
        {
         "alphahull": -1,
         "color": "#B2828D",
         "flatshading": true,
         "hoverinfo": "skip",
         "legendgroup": "facets",
         "opacity": 0.05,
         "type": "mesh3d",
         "x": [
          0.49999999999999856,
          0.47500000000000003,
          0.583333333333332,
          0.5
         ],
         "y": [
          0.34116152270295985,
          0.30310889132455354,
          0.336787657027281,
          0.28867513459481287
         ],
         "z": [
          0.5195887333176434,
          0.48989794855663565,
          0.5443310539518168,
          0.8164965809277259
         ]
        },
        {
         "alphahull": -1,
         "color": "#6C7C32",
         "flatshading": true,
         "hoverinfo": "skip",
         "legendgroup": "facets",
         "opacity": 0.05,
         "type": "mesh3d",
         "x": [
          0.49999999999999856,
          0.47500000000000003,
          0.49999999999999856,
          0.3125
         ],
         "y": [
          0.34116152270295985,
          0.30310889132455354,
          0.28867513459481203,
          0.25259074277046123
         ],
         "z": [
          0.5195887333176434,
          0.48989794855663565,
          0.4665694748158431,
          0.40824829046386296
         ]
        },
        {
         "alphahull": -1,
         "color": "#778AAE",
         "flatshading": true,
         "hoverinfo": "skip",
         "legendgroup": "facets",
         "opacity": 0.05,
         "type": "mesh3d",
         "x": [
          0.49999999999999856,
          0.499999999999999,
          0.555555555555555,
          0.53125
         ],
         "y": [
          0.34116152270295985,
          0.37115374447904464,
          0.38490017945975014,
          0.3428017223313403
         ],
         "z": [
          0.5195887333176434,
          0.5248906591678231,
          0.5443310539518168,
          0.5103103630798287
         ]
        },
        {
         "alphahull": -1,
         "color": "#862A16",
         "flatshading": true,
         "hoverinfo": "skip",
         "legendgroup": "facets",
         "opacity": 0.05,
         "type": "mesh3d",
         "x": [
          0.49999999999999856,
          0.49999999999999856,
          0.5909090909090895,
          0.53125
         ],
         "y": [
          0.34116152270295985,
          0.28867513459481203,
          0.34116152270295985,
          0.3428017223313403
         ],
         "z": [
          0.5195887333176434,
          0.4665694748158431,
          0.5195887333176434,
          0.5103103630798287
         ]
        },
        {
         "alphahull": -1,
         "color": "#A777F1",
         "flatshading": true,
         "hoverinfo": "skip",
         "legendgroup": "facets",
         "opacity": 0.05,
         "type": "mesh3d",
         "x": [
          0.49999999999999856,
          0.583333333333332,
          0.538461538461537,
          0.5
         ],
         "y": [
          0.34116152270295985,
          0.336787657027281,
          0.39970403251589404,
          0.28867513459481287
         ],
         "z": [
          0.5195887333176434,
          0.5443310539518168,
          0.5652668637191947,
          0.8164965809277259
         ]
        },
        {
         "alphahull": -1,
         "color": "#620042",
         "flatshading": true,
         "hoverinfo": "skip",
         "legendgroup": "facets",
         "opacity": 0.05,
         "type": "mesh3d",
         "x": [
          0.49999999999999856,
          0.47500000000000003,
          0.49999999999999856,
          0.583333333333332
         ],
         "y": [
          0.34116152270295985,
          0.30310889132455354,
          0.28867513459481203,
          0.336787657027281
         ],
         "z": [
          0.5195887333176434,
          0.48989794855663565,
          0.4665694748158431,
          0.5443310539518168
         ]
        },
        {
         "alphahull": -1,
         "color": "#1616A7",
         "flatshading": true,
         "hoverinfo": "skip",
         "legendgroup": "facets",
         "opacity": 0.05,
         "type": "mesh3d",
         "x": [
          0.49999999999999856,
          0.555555555555555,
          0.5909090909090895,
          0.53125
         ],
         "y": [
          0.34116152270295985,
          0.38490017945975014,
          0.34116152270295985,
          0.3428017223313403
         ],
         "z": [
          0.5195887333176434,
          0.5443310539518168,
          0.5195887333176434,
          0.5103103630798287
         ]
        },
        {
         "alphahull": -1,
         "color": "#DA60CA",
         "flatshading": true,
         "hoverinfo": "skip",
         "legendgroup": "facets",
         "opacity": 0.05,
         "type": "mesh3d",
         "x": [
          0.49999999999999856,
          0.49999999999999856,
          0.583333333333332,
          0.6153846153846141
         ],
         "y": [
          0.34116152270295985,
          0.28867513459481203,
          0.336787657027281,
          0.3108809141790284
         ],
         "z": [
          0.5195887333176434,
          0.4665694748158431,
          0.5443310539518168,
          0.5024594344170619
         ]
        },
        {
         "alphahull": -1,
         "color": "#6C4516",
         "flatshading": true,
         "hoverinfo": "skip",
         "legendgroup": "facets",
         "opacity": 0.05,
         "type": "mesh3d",
         "x": [
          0.49999999999999856,
          0.49999999999999856,
          0.5909090909090895,
          0.6153846153846141
         ],
         "y": [
          0.34116152270295985,
          0.28867513459481203,
          0.34116152270295985,
          0.3108809141790284
         ],
         "z": [
          0.5195887333176434,
          0.4665694748158431,
          0.5195887333176434,
          0.5024594344170619
         ]
        },
        {
         "alphahull": -1,
         "color": "#0D2A63",
         "flatshading": true,
         "hoverinfo": "skip",
         "legendgroup": "facets",
         "opacity": 0.05,
         "type": "mesh3d",
         "x": [
          0.5714285714285701,
          0.49999999999999856,
          0.555555555555555,
          0.5909090909090895
         ],
         "y": [
          0.3574073094983392,
          0.34116152270295985,
          0.38490017945975014,
          0.34116152270295985
         ],
         "z": [
          0.5443310539518168,
          0.5195887333176434,
          0.5443310539518168,
          0.5195887333176434
         ]
        },
        {
         "alphahull": -1,
         "color": "#AF0038",
         "flatshading": true,
         "hoverinfo": "skip",
         "legendgroup": "facets",
         "opacity": 0.05,
         "type": "mesh3d",
         "x": [
          0.5714285714285701,
          0.49999999999999856,
          0.583333333333332,
          0.6153846153846141
         ],
         "y": [
          0.3574073094983392,
          0.34116152270295985,
          0.336787657027281,
          0.3108809141790284
         ],
         "z": [
          0.5443310539518168,
          0.5195887333176434,
          0.5443310539518168,
          0.5024594344170619
         ]
        },
        {
         "alphahull": -1,
         "color": "#2E91E5",
         "flatshading": true,
         "hoverinfo": "skip",
         "legendgroup": "facets",
         "opacity": 0.05,
         "type": "mesh3d",
         "x": [
          0.5714285714285701,
          0.49999999999999856,
          0.5909090909090895,
          0.6153846153846141
         ],
         "y": [
          0.3574073094983392,
          0.34116152270295985,
          0.34116152270295985,
          0.3108809141790284
         ],
         "z": [
          0.5443310539518168,
          0.5195887333176434,
          0.5195887333176434,
          0.5024594344170619
         ]
        },
        {
         "alphahull": -1,
         "color": "#E15F99",
         "flatshading": true,
         "hoverinfo": "skip",
         "legendgroup": "facets",
         "opacity": 0.05,
         "type": "mesh3d",
         "x": [
          0.5714285714285701,
          0.49999999999999856,
          0.583333333333332,
          0.538461538461537
         ],
         "y": [
          0.3574073094983392,
          0.34116152270295985,
          0.336787657027281,
          0.39970403251589404
         ],
         "z": [
          0.5443310539518168,
          0.5195887333176434,
          0.5443310539518168,
          0.5652668637191947
         ]
        },
        {
         "alphahull": -1,
         "color": "#1CA71C",
         "flatshading": true,
         "hoverinfo": "skip",
         "legendgroup": "facets",
         "opacity": 0.05,
         "type": "mesh3d",
         "x": [
          0.5714285714285701,
          0.555555555555555,
          0.49999999999999906,
          0.538461538461537
         ],
         "y": [
          0.3574073094983392,
          0.38490017945975014,
          0.38490017945975014,
          0.39970403251589404
         ],
         "z": [
          0.5443310539518168,
          0.5443310539518168,
          0.5443310539518168,
          0.5652668637191947
         ]
        },
        {
         "alphahull": -1,
         "color": "#FB0D0D",
         "flatshading": true,
         "hoverinfo": "skip",
         "legendgroup": "facets",
         "opacity": 0.05,
         "type": "mesh3d",
         "x": [
          0.5714285714285701,
          0.49999999999999856,
          0.49999999999999906,
          0.538461538461537
         ],
         "y": [
          0.3574073094983392,
          0.34116152270295985,
          0.38490017945975014,
          0.39970403251589404
         ],
         "z": [
          0.5443310539518168,
          0.5195887333176434,
          0.5443310539518168,
          0.5652668637191947
         ]
        },
        {
         "alphahull": -1,
         "color": "#DA16FF",
         "flatshading": true,
         "hoverinfo": "skip",
         "legendgroup": "facets",
         "opacity": 0.05,
         "type": "mesh3d",
         "x": [
          0.5714285714285701,
          0.49999999999999856,
          0.555555555555555,
          0.49999999999999906
         ],
         "y": [
          0.3574073094983392,
          0.34116152270295985,
          0.38490017945975014,
          0.38490017945975014
         ],
         "z": [
          0.5443310539518168,
          0.5195887333176434,
          0.5443310539518168,
          0.5443310539518168
         ]
        },
        {
         "hoverinfo": "text",
         "hoverlabel": {
          "font": {
           "size": 14
          }
         },
         "hovertext": [
          "Fe<sub>3</sub>(PO<sub>4</sub>)<sub>2</sub> (mp-19346-GGA+U) <br>  Formation energy: -2.296 eV/atom <br>  (Stable)<br><br> Li: 0.0<br> Fe: 0.230769<br> P: 0.153846<br> O: 0.615385",
          "Fe<sub>3</sub>(P<sub>2</sub>O<sub>7</sub>)<sub>2</sub> (mp-559713-GGA+U) <br>  Formation energy: -2.408 eV/atom <br>  (Stable)<br><br> Li: 0.0<br> Fe: 0.142857<br> P: 0.190476<br> O: 0.666667",
          "LiFeP<sub>2</sub>O<sub>7</sub> (mp-19294-GGA+U) <br>  Formation energy: -2.526 eV/atom <br>  (Stable)<br><br> Li: 0.090909<br> Fe: 0.090909<br> P: 0.181818<br> O: 0.636364",
          "LiPO<sub>3</sub> (mp-29195-GGA) <br>  Formation energy: -2.703 eV/atom <br>  (Stable)<br><br> Li: 0.2<br> Fe: 0.0<br> P: 0.2<br> O: 0.6",
          "P (mp-1198724-GGA) <br>  Formation energy: 0.0 eV/atom <br>  (Stable)<br><br> Li: 0.0<br> Fe: 0.0<br> P: 1.0<br> O: 0.0",
          "Li<sub>2</sub>O<sub>2</sub> (mp-841-GGA) <br>  Formation energy: -1.65 eV/atom <br>  (Stable)<br><br> Li: 0.5<br> Fe: 0.0<br> P: 0.0<br> O: 0.5",
          "Li<sub>2</sub>FeO<sub>3</sub> (mp-774155-GGA+U) <br>  Formation energy: -1.878 eV/atom <br>  (Stable)<br><br> Li: 0.333333<br> Fe: 0.166667<br> P: 0.0<br> O: 0.5",
          "FeP<sub>2</sub> (mp-20027-GGA) <br>  Formation energy: -0.537 eV/atom <br>  (Stable)<br><br> Li: 0.0<br> Fe: 0.333333<br> P: 0.666667<br> O: 0.0",
          "LiP (mp-9588-GGA) <br>  Formation energy: -0.523 eV/atom <br>  (Stable)<br><br> Li: 0.5<br> Fe: 0.0<br> P: 0.5<br> O: 0.0",
          "Li<sub>3</sub>PO<sub>4</sub> (mp-13725-GGA) <br>  Formation energy: -2.753 eV/atom <br>  (Stable)<br><br> Li: 0.375<br> Fe: 0.0<br> P: 0.125<br> O: 0.5",
          "Fe<sub>2</sub>P (mp-778-GGA) <br>  Formation energy: -0.458 eV/atom <br>  (Stable)<br><br> Li: 0.0<br> Fe: 0.666667<br> P: 0.333333<br> O: 0.0",
          "Fe<sub>3</sub>P (mp-18708-GGA) <br>  Formation energy: -0.355 eV/atom <br>  (Stable)<br><br> Li: 0.0<br> Fe: 0.75<br> P: 0.25<br> O: 0.0",
          "Li<sub>2</sub>Fe<sub>12</sub>P<sub>7</sub> (mp-760680-GGA) <br>  Formation energy: -0.517 eV/atom <br>  (Stable)<br><br> Li: 0.095238<br> Fe: 0.571429<br> P: 0.333333<br> O: 0.0",
          "Li<sub>3</sub>P<sub>7</sub> (mp-28336-GGA) <br>  Formation energy: -0.36 eV/atom <br>  (Stable)<br><br> Li: 0.3<br> Fe: 0.0<br> P: 0.7<br> O: 0.0",
          "Fe<sub>2</sub>O<sub>3</sub> (mp-19770-GGA+U) <br>  Formation energy: -1.707 eV/atom <br>  (Stable)<br><br> Li: 0.0<br> Fe: 0.4<br> P: 0.0<br> O: 0.6",
          "O<sub>2</sub> (mp-12957-GGA) <br>  Formation energy: 0.0 eV/atom <br>  (Stable)<br><br> Li: 0.0<br> Fe: 0.0<br> P: 0.0<br> O: 1.0",
          "Fe<sub>2</sub>P<sub>2</sub>O<sub>7</sub> (mp-1102399-GGA+U) <br>  Formation energy: -2.373 eV/atom <br>  (Stable)<br><br> Li: 0.0<br> Fe: 0.181818<br> P: 0.181818<br> O: 0.636364",
          "LiFePO<sub>4</sub> (mp-19017-GGA+U) <br>  Formation energy: -2.48 eV/atom <br>  (Stable)<br><br> Li: 0.142857<br> Fe: 0.142857<br> P: 0.142857<br> O: 0.571429",
          "Li<sub>3</sub>P (mp-736-GGA) <br>  Formation energy: -0.697 eV/atom <br>  (Stable)<br><br> Li: 0.75<br> Fe: 0.0<br> P: 0.25<br> O: 0.0",
          "Fe (mp-13-GGA) <br>  Formation energy: 0.0 eV/atom <br>  (Stable)<br><br> Li: 0.0<br> Fe: 1.0<br> P: 0.0<br> O: 0.0",
          "FeP<sub>4</sub> (mp-570553-GGA) <br>  Formation energy: -0.372 eV/atom <br>  (Stable)<br><br> Li: 0.0<br> Fe: 0.2<br> P: 0.8<br> O: 0.0",
          "Li<sub>3</sub>Fe<sub>2</sub>(PO<sub>4</sub>)<sub>3</sub> (mp-25993-GGA+U) <br>  Formation energy: -2.507 eV/atom <br>  (Stable)<br><br> Li: 0.15<br> Fe: 0.1<br> P: 0.15<br> O: 0.6",
          "Li<sub>4</sub>P<sub>2</sub>O<sub>7</sub> (mp-28450-GGA) <br>  Formation energy: -2.744 eV/atom <br>  (Stable)<br><br> Li: 0.307692<br> Fe: 0.0<br> P: 0.153846<br> O: 0.538462",
          "Fe(PO<sub>3</sub>)<sub>2</sub> (mp-649683-GGA+U) <br>  Formation energy: -2.471 eV/atom <br>  (Stable)<br><br> Li: 0.0<br> Fe: 0.111111<br> P: 0.222222<br> O: 0.666667",
          "FeP (mp-1005-GGA) <br>  Formation energy: -0.598 eV/atom <br>  (Stable)<br><br> Li: 0.0<br> Fe: 0.5<br> P: 0.5<br> O: 0.0",
          "Li<sub>2</sub>O (mp-1960-GGA) <br>  Formation energy: -2.062 eV/atom <br>  (Stable)<br><br> Li: 0.666667<br> Fe: 0.0<br> P: 0.0<br> O: 0.333333",
          "FePO<sub>4</sub> (mp-760343-GGA+U) <br>  Formation energy: -2.334 eV/atom <br>  (Stable)<br><br> Li: 0.0<br> Fe: 0.166667<br> P: 0.166667<br> O: 0.666667",
          "P<sub>2</sub>O<sub>5</sub> (mp-2452-GGA) <br>  Formation energy: -2.439 eV/atom <br>  (Stable)<br><br> Li: 0.0<br> Fe: 0.0<br> P: 0.285714<br> O: 0.714286",
          "FeP<sub>4</sub>O<sub>11</sub> (mp-759361-GGA+U) <br>  Formation energy: -2.478 eV/atom <br>  (Stable)<br><br> Li: 0.0<br> Fe: 0.0625<br> P: 0.25<br> O: 0.6875",
          "FeO (mp-1274279-GGA+U) <br>  Formation energy: -1.482 eV/atom <br>  (Stable)<br><br> Li: 0.0<br> Fe: 0.5<br> P: 0.0<br> O: 0.5",
          "LiP<sub>7</sub> (mp-27687-GGA) <br>  Formation energy: -0.155 eV/atom <br>  (Stable)<br><br> Li: 0.125<br> Fe: 0.0<br> P: 0.875<br> O: 0.0",
          "LiFeP (mp-20049-GGA) <br>  Formation energy: -0.653 eV/atom <br>  (Stable)<br><br> Li: 0.333333<br> Fe: 0.333333<br> P: 0.333333<br> O: 0.0",
          "Li<sub>5</sub>FeO<sub>4</sub> (mp-19511-GGA+U) <br>  Formation energy: -2.042 eV/atom <br>  (Stable)<br><br> Li: 0.5<br> Fe: 0.1<br> P: 0.0<br> O: 0.4",
          "Fe(PO<sub>3</sub>)<sub>3</sub> (mp-541930-GGA+U) <br>  Formation energy: -2.479 eV/atom <br>  (Stable)<br><br> Li: 0.0<br> Fe: 0.076923<br> P: 0.230769<br> O: 0.692308",
          "LiFeO<sub>2</sub> (mp-757614-GGA+U) <br>  Formation energy: -1.945 eV/atom <br>  (Stable)<br><br> Li: 0.25<br> Fe: 0.25<br> P: 0.0<br> O: 0.5",
          "LiO<sub>8</sub> (mp-1235059-GGA) <br>  Formation energy: -0.427 eV/atom <br>  (Stable)<br><br> Li: 0.111111<br> Fe: 0.0<br> P: 0.0<br> O: 0.888889",
          "LiFe(PO<sub>3</sub>)<sub>3</sub> (mp-26003-GGA+U) <br>  Formation energy: -2.554 eV/atom <br>  (Stable)<br><br> Li: 0.071429<br> Fe: 0.071429<br> P: 0.214286<br> O: 0.642857",
          "LiFe(PO<sub>3</sub>)<sub>4</sub> (mp-25977-GGA+U) <br>  Formation energy: -2.55 eV/atom <br>  (Stable)<br><br> Li: 0.055556<br> Fe: 0.055556<br> P: 0.222222<br> O: 0.666667",
          "LiFe<sub>2</sub>P<sub>3</sub>O<sub>10</sub> (mp-27007-GGA+U) <br>  Formation energy: -2.48 eV/atom <br>  (Stable)<br><br> Li: 0.0625<br> Fe: 0.125<br> P: 0.1875<br> O: 0.625",
          "Li (mp-1018134-GGA) <br>  Formation energy: 0.0 eV/atom <br>  (Stable)<br><br> Li: 1.0<br> Fe: 0.0<br> P: 0.0<br> O: 0.0"
         ],
         "line": {
          "color": "black",
          "width": 2
         },
         "marker": {
          "color": "darkgreen",
          "line": {
           "color": "black",
           "width": 1
          },
          "opacity": 0.99,
          "size": 7
         },
         "mode": "markers",
         "name": "Stable",
         "showlegend": true,
         "type": "scatter3d",
         "x": [
          0.6153846153846141,
          0.5714285714285701,
          0.49999999999999856,
          0.4,
          0.5,
          0.25,
          0.416666666666666,
          0.6666666666666661,
          0.25,
          0.3125,
          0.8333333333333326,
          0.875,
          0.7380952380952376,
          0.35000000000000003,
          0.7000000000000001,
          0.5,
          0.5909090909090895,
          0.49999999999999856,
          0.125,
          1,
          0.6000000000000001,
          0.47500000000000003,
          0.3461538461538455,
          0.555555555555555,
          0.75,
          0.16666666666666652,
          0.583333333333332,
          0.49999999999999956,
          0.53125,
          0.75,
          0.4375,
          0.49999999999999956,
          0.30000000000000004,
          0.538461538461537,
          0.5,
          0.44444444444444403,
          0.499999999999999,
          0.49999999999999906,
          0.53125,
          0
         ],
         "y": [
          0.3108809141790284,
          0.3574073094983392,
          0.34116152270295985,
          0.34641016151377546,
          0.8660254037844386,
          0.14433756729740643,
          0.14433756729740643,
          0.5773502691896252,
          0.4330127018922193,
          0.25259074277046123,
          0.2886751345948126,
          0.21650635094610965,
          0.2886751345948126,
          0.6062177826491071,
          0.17320508075688776,
          0.28867513459481287,
          0.34116152270295985,
          0.28867513459481203,
          0.21650635094610965,
          0,
          0.6928203230275509,
          0.30310889132455354,
          0.28867513459481203,
          0.38490017945975014,
          0.4330127018922193,
          0.09622504486493753,
          0.336787657027281,
          0.4536323543632767,
          0.4149705059800435,
          0.14433756729740643,
          0.7577722283113838,
          0.2886751345948126,
          0.11547005383792515,
          0.39970403251589404,
          0.14433756729740643,
          0.2566001196398334,
          0.37115374447904464,
          0.38490017945975014,
          0.3428017223313403,
          0
         ],
         "z": [
          0.5024594344170619,
          0.5443310539518168,
          0.5195887333176434,
          0.48989794855663565,
          0,
          0.40824829046386296,
          0.40824829046386296,
          0,
          0,
          0.40824829046386296,
          0,
          0,
          0,
          0,
          0.48989794855663565,
          0.8164965809277259,
          0.5195887333176434,
          0.4665694748158431,
          0,
          0,
          0,
          0.48989794855663565,
          0.43965200511492897,
          0.5443310539518168,
          0,
          0.2721655269759084,
          0.5443310539518168,
          0.583211843519804,
          0.5613413993878116,
          0.40824829046386296,
          0,
          0,
          0.3265986323710904,
          0.5652668637191947,
          0.40824829046386296,
          0.7257747386024224,
          0.5248906591678231,
          0.5443310539518168,
          0.5103103630798287,
          0
         ]
        },
        {
         "hoverinfo": "text",
         "hoverlabel": {
          "font": {
           "size": 14
          }
         },
         "hovertext": [
          "FeP<sub>4</sub>O<sub>11</sub> (mp-759779-GGA+U) <br>  Formation energy: -2.477 eV/atom <br>  Energy Above Hull: (+0.0 eV/atom)<br><br> Li: 0.0<br> Fe: 0.0625<br> P: 0.25<br> O: 0.6875",
          "Fe<sub>2</sub>P<sub>2</sub>O<sub>7</sub> (mp-18849-GGA+U) <br>  Formation energy: -2.373 eV/atom <br>  Energy Above Hull: (+0.0 eV/atom)<br><br> Li: 0.0<br> Fe: 0.181818<br> P: 0.181818<br> O: 0.636364",
          "Li<sub>4</sub>P<sub>2</sub>O<sub>7</sub> (mp-554577-GGA) <br>  Formation energy: -2.744 eV/atom <br>  Energy Above Hull: (+0.0 eV/atom)<br><br> Li: 0.307692<br> Fe: 0.0<br> P: 0.153846<br> O: 0.538462"
         ],
         "line": {
          "color": "black",
          "width": 2
         },
         "marker": {
          "color": [
           0,
           0,
           0
          ],
          "colorbar": {
           "len": 0.5,
           "thickness": 0.02,
           "thicknessmode": "fraction",
           "title": {
            "text": "Energy Above Hull<br>(eV/atom)"
           },
           "x": 0,
           "xpad": 0,
           "y": 1,
           "yanchor": "top",
           "ypad": 0
          },
          "colorscale": [
           [
            0,
            "#fff5e3"
           ],
           [
            0.5,
            "#f24324"
           ],
           [
            1,
            "#c40000"
           ]
          ],
          "line": {
           "color": "black",
           "width": 1
          },
          "size": 5,
          "symbol": "diamond"
         },
         "mode": "markers",
         "name": "Above Hull",
         "showlegend": true,
         "type": "scatter3d",
         "visible": "legendonly",
         "x": [
          0.53125,
          0.5909090909090908,
          0.34615384615384615
         ],
         "y": [
          0.4149705059800435,
          0.34116152270296063,
          0.28867513459481287
         ],
         "z": [
          0.5613413993878116,
          0.5195887333176438,
          0.4396520051149293
         ]
        }
       ],
       "layout": {
        "autosize": true,
        "coloraxis": {
         "colorbar": {
          "x": 1,
          "y": 0.05,
          "yanchor": "top"
         }
        },
        "hovermode": "closest",
        "legend": {
         "orientation": "h",
         "traceorder": "reversed",
         "x": 0.5,
         "xanchor": "center",
         "y": 0,
         "yanchor": "top"
        },
        "margin": {
         "b": 10,
         "l": 5,
         "pad": 0,
         "r": 5,
         "t": 10
        },
        "paper_bgcolor": "rgba(0,0,0,0)",
        "plot_bgcolor": "rgba(0,0,0,0)",
        "scene": {
         "annotations": [
          {
           "align": "center",
           "font": {
            "color": "#000000",
            "size": 24
           },
           "opacity": 1,
           "showarrow": false,
           "text": "P",
           "x": 0.5,
           "y": 0.9260254037844386,
           "z": 0
          },
          {
           "align": "center",
           "font": {
            "color": "#000000",
            "size": 24
           },
           "opacity": 1,
           "showarrow": false,
           "text": "O",
           "x": 0.5,
           "y": 0.28867513459481287,
           "z": 0.8764965809277259
          },
          {
           "align": "center",
           "font": {
            "color": "#000000",
            "size": 24
           },
           "opacity": 1,
           "showarrow": false,
           "text": "Fe",
           "x": 1.06,
           "y": -0.06,
           "z": 0
          },
          {
           "align": "center",
           "font": {
            "color": "#000000",
            "size": 24
           },
           "opacity": 1,
           "showarrow": false,
           "text": "Li",
           "x": -0.06,
           "y": -0.06,
           "z": 0
          }
         ],
         "aspectratio": {
          "x": 1.5,
          "y": 1.5,
          "z": 1.5
         },
         "camera": {
          "center": {
           "x": 0,
           "y": -0.2,
           "z": -0.2
          },
          "eye": {
           "x": 2,
           "y": 5,
           "z": 3
          },
          "projection": {
           "type": "orthographic"
          }
         },
         "xaxis": {
          "autorange": true,
          "showaxeslabels": false,
          "showgrid": false,
          "showline": false,
          "showspikes": false,
          "showticklabels": false,
          "ticks": "",
          "visible": false,
          "zeroline": false
         },
         "yaxis": {
          "autorange": true,
          "showaxeslabels": false,
          "showgrid": false,
          "showline": false,
          "showspikes": false,
          "showticklabels": false,
          "ticks": "",
          "visible": false,
          "zeroline": false
         },
         "zaxis": {
          "autorange": true,
          "showaxeslabels": false,
          "showgrid": false,
          "showline": false,
          "showspikes": false,
          "showticklabels": false,
          "ticks": "",
          "visible": false,
          "zeroline": false
         }
        },
        "showlegend": true,
        "template": {
         "data": {
          "bar": [
           {
            "error_x": {
             "color": "#2a3f5f"
            },
            "error_y": {
             "color": "#2a3f5f"
            },
            "marker": {
             "line": {
              "color": "#E5ECF6",
              "width": 0.5
             },
             "pattern": {
              "fillmode": "overlay",
              "size": 10,
              "solidity": 0.2
             }
            },
            "type": "bar"
           }
          ],
          "barpolar": [
           {
            "marker": {
             "line": {
              "color": "#E5ECF6",
              "width": 0.5
             },
             "pattern": {
              "fillmode": "overlay",
              "size": 10,
              "solidity": 0.2
             }
            },
            "type": "barpolar"
           }
          ],
          "carpet": [
           {
            "aaxis": {
             "endlinecolor": "#2a3f5f",
             "gridcolor": "white",
             "linecolor": "white",
             "minorgridcolor": "white",
             "startlinecolor": "#2a3f5f"
            },
            "baxis": {
             "endlinecolor": "#2a3f5f",
             "gridcolor": "white",
             "linecolor": "white",
             "minorgridcolor": "white",
             "startlinecolor": "#2a3f5f"
            },
            "type": "carpet"
           }
          ],
          "choropleth": [
           {
            "colorbar": {
             "outlinewidth": 0,
             "ticks": ""
            },
            "type": "choropleth"
           }
          ],
          "contour": [
           {
            "colorbar": {
             "outlinewidth": 0,
             "ticks": ""
            },
            "colorscale": [
             [
              0,
              "#0d0887"
             ],
             [
              0.1111111111111111,
              "#46039f"
             ],
             [
              0.2222222222222222,
              "#7201a8"
             ],
             [
              0.3333333333333333,
              "#9c179e"
             ],
             [
              0.4444444444444444,
              "#bd3786"
             ],
             [
              0.5555555555555556,
              "#d8576b"
             ],
             [
              0.6666666666666666,
              "#ed7953"
             ],
             [
              0.7777777777777778,
              "#fb9f3a"
             ],
             [
              0.8888888888888888,
              "#fdca26"
             ],
             [
              1,
              "#f0f921"
             ]
            ],
            "type": "contour"
           }
          ],
          "contourcarpet": [
           {
            "colorbar": {
             "outlinewidth": 0,
             "ticks": ""
            },
            "type": "contourcarpet"
           }
          ],
          "heatmap": [
           {
            "colorbar": {
             "outlinewidth": 0,
             "ticks": ""
            },
            "colorscale": [
             [
              0,
              "#0d0887"
             ],
             [
              0.1111111111111111,
              "#46039f"
             ],
             [
              0.2222222222222222,
              "#7201a8"
             ],
             [
              0.3333333333333333,
              "#9c179e"
             ],
             [
              0.4444444444444444,
              "#bd3786"
             ],
             [
              0.5555555555555556,
              "#d8576b"
             ],
             [
              0.6666666666666666,
              "#ed7953"
             ],
             [
              0.7777777777777778,
              "#fb9f3a"
             ],
             [
              0.8888888888888888,
              "#fdca26"
             ],
             [
              1,
              "#f0f921"
             ]
            ],
            "type": "heatmap"
           }
          ],
          "histogram": [
           {
            "marker": {
             "pattern": {
              "fillmode": "overlay",
              "size": 10,
              "solidity": 0.2
             }
            },
            "type": "histogram"
           }
          ],
          "histogram2d": [
           {
            "colorbar": {
             "outlinewidth": 0,
             "ticks": ""
            },
            "colorscale": [
             [
              0,
              "#0d0887"
             ],
             [
              0.1111111111111111,
              "#46039f"
             ],
             [
              0.2222222222222222,
              "#7201a8"
             ],
             [
              0.3333333333333333,
              "#9c179e"
             ],
             [
              0.4444444444444444,
              "#bd3786"
             ],
             [
              0.5555555555555556,
              "#d8576b"
             ],
             [
              0.6666666666666666,
              "#ed7953"
             ],
             [
              0.7777777777777778,
              "#fb9f3a"
             ],
             [
              0.8888888888888888,
              "#fdca26"
             ],
             [
              1,
              "#f0f921"
             ]
            ],
            "type": "histogram2d"
           }
          ],
          "histogram2dcontour": [
           {
            "colorbar": {
             "outlinewidth": 0,
             "ticks": ""
            },
            "colorscale": [
             [
              0,
              "#0d0887"
             ],
             [
              0.1111111111111111,
              "#46039f"
             ],
             [
              0.2222222222222222,
              "#7201a8"
             ],
             [
              0.3333333333333333,
              "#9c179e"
             ],
             [
              0.4444444444444444,
              "#bd3786"
             ],
             [
              0.5555555555555556,
              "#d8576b"
             ],
             [
              0.6666666666666666,
              "#ed7953"
             ],
             [
              0.7777777777777778,
              "#fb9f3a"
             ],
             [
              0.8888888888888888,
              "#fdca26"
             ],
             [
              1,
              "#f0f921"
             ]
            ],
            "type": "histogram2dcontour"
           }
          ],
          "mesh3d": [
           {
            "colorbar": {
             "outlinewidth": 0,
             "ticks": ""
            },
            "type": "mesh3d"
           }
          ],
          "parcoords": [
           {
            "line": {
             "colorbar": {
              "outlinewidth": 0,
              "ticks": ""
             }
            },
            "type": "parcoords"
           }
          ],
          "pie": [
           {
            "automargin": true,
            "type": "pie"
           }
          ],
          "scatter": [
           {
            "fillpattern": {
             "fillmode": "overlay",
             "size": 10,
             "solidity": 0.2
            },
            "type": "scatter"
           }
          ],
          "scatter3d": [
           {
            "line": {
             "colorbar": {
              "outlinewidth": 0,
              "ticks": ""
             }
            },
            "marker": {
             "colorbar": {
              "outlinewidth": 0,
              "ticks": ""
             }
            },
            "type": "scatter3d"
           }
          ],
          "scattercarpet": [
           {
            "marker": {
             "colorbar": {
              "outlinewidth": 0,
              "ticks": ""
             }
            },
            "type": "scattercarpet"
           }
          ],
          "scattergeo": [
           {
            "marker": {
             "colorbar": {
              "outlinewidth": 0,
              "ticks": ""
             }
            },
            "type": "scattergeo"
           }
          ],
          "scattergl": [
           {
            "marker": {
             "colorbar": {
              "outlinewidth": 0,
              "ticks": ""
             }
            },
            "type": "scattergl"
           }
          ],
          "scattermap": [
           {
            "marker": {
             "colorbar": {
              "outlinewidth": 0,
              "ticks": ""
             }
            },
            "type": "scattermap"
           }
          ],
          "scattermapbox": [
           {
            "marker": {
             "colorbar": {
              "outlinewidth": 0,
              "ticks": ""
             }
            },
            "type": "scattermapbox"
           }
          ],
          "scatterpolar": [
           {
            "marker": {
             "colorbar": {
              "outlinewidth": 0,
              "ticks": ""
             }
            },
            "type": "scatterpolar"
           }
          ],
          "scatterpolargl": [
           {
            "marker": {
             "colorbar": {
              "outlinewidth": 0,
              "ticks": ""
             }
            },
            "type": "scatterpolargl"
           }
          ],
          "scatterternary": [
           {
            "marker": {
             "colorbar": {
              "outlinewidth": 0,
              "ticks": ""
             }
            },
            "type": "scatterternary"
           }
          ],
          "surface": [
           {
            "colorbar": {
             "outlinewidth": 0,
             "ticks": ""
            },
            "colorscale": [
             [
              0,
              "#0d0887"
             ],
             [
              0.1111111111111111,
              "#46039f"
             ],
             [
              0.2222222222222222,
              "#7201a8"
             ],
             [
              0.3333333333333333,
              "#9c179e"
             ],
             [
              0.4444444444444444,
              "#bd3786"
             ],
             [
              0.5555555555555556,
              "#d8576b"
             ],
             [
              0.6666666666666666,
              "#ed7953"
             ],
             [
              0.7777777777777778,
              "#fb9f3a"
             ],
             [
              0.8888888888888888,
              "#fdca26"
             ],
             [
              1,
              "#f0f921"
             ]
            ],
            "type": "surface"
           }
          ],
          "table": [
           {
            "cells": {
             "fill": {
              "color": "#EBF0F8"
             },
             "line": {
              "color": "white"
             }
            },
            "header": {
             "fill": {
              "color": "#C8D4E3"
             },
             "line": {
              "color": "white"
             }
            },
            "type": "table"
           }
          ]
         },
         "layout": {
          "annotationdefaults": {
           "arrowcolor": "#2a3f5f",
           "arrowhead": 0,
           "arrowwidth": 1
          },
          "autotypenumbers": "strict",
          "coloraxis": {
           "colorbar": {
            "outlinewidth": 0,
            "ticks": ""
           }
          },
          "colorscale": {
           "diverging": [
            [
             0,
             "#8e0152"
            ],
            [
             0.1,
             "#c51b7d"
            ],
            [
             0.2,
             "#de77ae"
            ],
            [
             0.3,
             "#f1b6da"
            ],
            [
             0.4,
             "#fde0ef"
            ],
            [
             0.5,
             "#f7f7f7"
            ],
            [
             0.6,
             "#e6f5d0"
            ],
            [
             0.7,
             "#b8e186"
            ],
            [
             0.8,
             "#7fbc41"
            ],
            [
             0.9,
             "#4d9221"
            ],
            [
             1,
             "#276419"
            ]
           ],
           "sequential": [
            [
             0,
             "#0d0887"
            ],
            [
             0.1111111111111111,
             "#46039f"
            ],
            [
             0.2222222222222222,
             "#7201a8"
            ],
            [
             0.3333333333333333,
             "#9c179e"
            ],
            [
             0.4444444444444444,
             "#bd3786"
            ],
            [
             0.5555555555555556,
             "#d8576b"
            ],
            [
             0.6666666666666666,
             "#ed7953"
            ],
            [
             0.7777777777777778,
             "#fb9f3a"
            ],
            [
             0.8888888888888888,
             "#fdca26"
            ],
            [
             1,
             "#f0f921"
            ]
           ],
           "sequentialminus": [
            [
             0,
             "#0d0887"
            ],
            [
             0.1111111111111111,
             "#46039f"
            ],
            [
             0.2222222222222222,
             "#7201a8"
            ],
            [
             0.3333333333333333,
             "#9c179e"
            ],
            [
             0.4444444444444444,
             "#bd3786"
            ],
            [
             0.5555555555555556,
             "#d8576b"
            ],
            [
             0.6666666666666666,
             "#ed7953"
            ],
            [
             0.7777777777777778,
             "#fb9f3a"
            ],
            [
             0.8888888888888888,
             "#fdca26"
            ],
            [
             1,
             "#f0f921"
            ]
           ]
          },
          "colorway": [
           "#636efa",
           "#EF553B",
           "#00cc96",
           "#ab63fa",
           "#FFA15A",
           "#19d3f3",
           "#FF6692",
           "#B6E880",
           "#FF97FF",
           "#FECB52"
          ],
          "font": {
           "color": "#2a3f5f"
          },
          "geo": {
           "bgcolor": "white",
           "lakecolor": "white",
           "landcolor": "#E5ECF6",
           "showlakes": true,
           "showland": true,
           "subunitcolor": "white"
          },
          "hoverlabel": {
           "align": "left"
          },
          "hovermode": "closest",
          "mapbox": {
           "style": "light"
          },
          "paper_bgcolor": "white",
          "plot_bgcolor": "#E5ECF6",
          "polar": {
           "angularaxis": {
            "gridcolor": "white",
            "linecolor": "white",
            "ticks": ""
           },
           "bgcolor": "#E5ECF6",
           "radialaxis": {
            "gridcolor": "white",
            "linecolor": "white",
            "ticks": ""
           }
          },
          "scene": {
           "xaxis": {
            "backgroundcolor": "#E5ECF6",
            "gridcolor": "white",
            "gridwidth": 2,
            "linecolor": "white",
            "showbackground": true,
            "ticks": "",
            "zerolinecolor": "white"
           },
           "yaxis": {
            "backgroundcolor": "#E5ECF6",
            "gridcolor": "white",
            "gridwidth": 2,
            "linecolor": "white",
            "showbackground": true,
            "ticks": "",
            "zerolinecolor": "white"
           },
           "zaxis": {
            "backgroundcolor": "#E5ECF6",
            "gridcolor": "white",
            "gridwidth": 2,
            "linecolor": "white",
            "showbackground": true,
            "ticks": "",
            "zerolinecolor": "white"
           }
          },
          "shapedefaults": {
           "line": {
            "color": "#2a3f5f"
           }
          },
          "ternary": {
           "aaxis": {
            "gridcolor": "white",
            "linecolor": "white",
            "ticks": ""
           },
           "baxis": {
            "gridcolor": "white",
            "linecolor": "white",
            "ticks": ""
           },
           "bgcolor": "#E5ECF6",
           "caxis": {
            "gridcolor": "white",
            "linecolor": "white",
            "ticks": ""
           }
          },
          "title": {
           "x": 0.05
          },
          "xaxis": {
           "automargin": true,
           "gridcolor": "white",
           "linecolor": "white",
           "ticks": "",
           "title": {
            "standoff": 15
           },
           "zerolinecolor": "white",
           "zerolinewidth": 2
          },
          "yaxis": {
           "automargin": true,
           "gridcolor": "white",
           "linecolor": "white",
           "ticks": "",
           "title": {
            "standoff": 15
           },
           "zerolinecolor": "white",
           "zerolinewidth": 2
          }
         }
        }
       }
      }
     },
     "metadata": {},
     "output_type": "display_data"
    }
   ],
   "source": [
    "pd.get_plot(backend='plotly', show_unstable=False)"
   ]
  }
 ],
 "metadata": {
  "kernelspec": {
   "display_name": "mi",
   "language": "python",
   "name": "python3"
  },
  "language_info": {
   "codemirror_mode": {
    "name": "ipython",
    "version": 3
   },
   "file_extension": ".py",
   "mimetype": "text/x-python",
   "name": "python",
   "nbconvert_exporter": "python",
   "pygments_lexer": "ipython3",
   "version": "3.12.8"
  }
 },
 "nbformat": 4,
 "nbformat_minor": 2
}
